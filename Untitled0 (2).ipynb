{
  "nbformat": 4,
  "nbformat_minor": 0,
  "metadata": {
    "colab": {
      "provenance": [],
      "toc_visible": true
    },
    "kernelspec": {
      "name": "python3",
      "display_name": "Python 3"
    },
    "language_info": {
      "name": "python"
    }
  },
  "cells": [
    {
      "cell_type": "code",
      "execution_count": null,
      "metadata": {
        "id": "Ce5TVzQ5jRQ0"
      },
      "outputs": [],
      "source": []
    },
    {
      "cell_type": "markdown",
      "source": [
        "**genatic Algorithem for titanic data set**"
      ],
      "metadata": {
        "id": "HG7GUsRTjST-"
      }
    },
    {
      "cell_type": "code",
      "source": [
        "import numpy as np\n",
        "import pandas as pd\n",
        "import matplotlib.pyplot as plt\n",
        "import tensorflow as tf\n",
        "from sklearn.model_selection import train_test_split\n",
        "from sklearn.metrics import confusion_matrix"
      ],
      "metadata": {
        "id": "oqzcYvDBjeyV"
      },
      "execution_count": null,
      "outputs": []
    },
    {
      "cell_type": "code",
      "source": [
        "df = pd.read_csv('/content/train.csv')"
      ],
      "metadata": {
        "id": "fUykh2pmjhMd"
      },
      "execution_count": null,
      "outputs": []
    },
    {
      "cell_type": "code",
      "source": [
        "df.head()"
      ],
      "metadata": {
        "colab": {
          "base_uri": "https://localhost:8080/",
          "height": 504
        },
        "id": "QfJZKl-XkPj3",
        "outputId": "bc09ff6d-88e5-4076-8ff6-66e696d80e8f"
      },
      "execution_count": null,
      "outputs": [
        {
          "output_type": "execute_result",
          "data": {
            "text/plain": [
              "   PassengerId  Survived  Pclass  \\\n",
              "0            1         0       3   \n",
              "1            2         1       1   \n",
              "2            3         1       3   \n",
              "3            4         1       1   \n",
              "4            5         0       3   \n",
              "\n",
              "                                                Name     Sex   Age  SibSp  \\\n",
              "0                            Braund, Mr. Owen Harris    male  22.0      1   \n",
              "1  Cumings, Mrs. John Bradley (Florence Briggs Th...  female  38.0      1   \n",
              "2                             Heikkinen, Miss. Laina  female  26.0      0   \n",
              "3       Futrelle, Mrs. Jacques Heath (Lily May Peel)  female  35.0      1   \n",
              "4                           Allen, Mr. William Henry    male  35.0      0   \n",
              "\n",
              "   Parch            Ticket     Fare Cabin Embarked  \n",
              "0      0         A/5 21171   7.2500   NaN        S  \n",
              "1      0          PC 17599  71.2833   C85        C  \n",
              "2      0  STON/O2. 3101282   7.9250   NaN        S  \n",
              "3      0            113803  53.1000  C123        S  \n",
              "4      0            373450   8.0500   NaN        S  "
            ],
            "text/html": [
              "\n",
              "  <div id=\"df-0f65e185-d183-40b4-aa17-f335bd212a73\" class=\"colab-df-container\">\n",
              "    <div>\n",
              "<style scoped>\n",
              "    .dataframe tbody tr th:only-of-type {\n",
              "        vertical-align: middle;\n",
              "    }\n",
              "\n",
              "    .dataframe tbody tr th {\n",
              "        vertical-align: top;\n",
              "    }\n",
              "\n",
              "    .dataframe thead th {\n",
              "        text-align: right;\n",
              "    }\n",
              "</style>\n",
              "<table border=\"1\" class=\"dataframe\">\n",
              "  <thead>\n",
              "    <tr style=\"text-align: right;\">\n",
              "      <th></th>\n",
              "      <th>PassengerId</th>\n",
              "      <th>Survived</th>\n",
              "      <th>Pclass</th>\n",
              "      <th>Name</th>\n",
              "      <th>Sex</th>\n",
              "      <th>Age</th>\n",
              "      <th>SibSp</th>\n",
              "      <th>Parch</th>\n",
              "      <th>Ticket</th>\n",
              "      <th>Fare</th>\n",
              "      <th>Cabin</th>\n",
              "      <th>Embarked</th>\n",
              "    </tr>\n",
              "  </thead>\n",
              "  <tbody>\n",
              "    <tr>\n",
              "      <th>0</th>\n",
              "      <td>1</td>\n",
              "      <td>0</td>\n",
              "      <td>3</td>\n",
              "      <td>Braund, Mr. Owen Harris</td>\n",
              "      <td>male</td>\n",
              "      <td>22.0</td>\n",
              "      <td>1</td>\n",
              "      <td>0</td>\n",
              "      <td>A/5 21171</td>\n",
              "      <td>7.2500</td>\n",
              "      <td>NaN</td>\n",
              "      <td>S</td>\n",
              "    </tr>\n",
              "    <tr>\n",
              "      <th>1</th>\n",
              "      <td>2</td>\n",
              "      <td>1</td>\n",
              "      <td>1</td>\n",
              "      <td>Cumings, Mrs. John Bradley (Florence Briggs Th...</td>\n",
              "      <td>female</td>\n",
              "      <td>38.0</td>\n",
              "      <td>1</td>\n",
              "      <td>0</td>\n",
              "      <td>PC 17599</td>\n",
              "      <td>71.2833</td>\n",
              "      <td>C85</td>\n",
              "      <td>C</td>\n",
              "    </tr>\n",
              "    <tr>\n",
              "      <th>2</th>\n",
              "      <td>3</td>\n",
              "      <td>1</td>\n",
              "      <td>3</td>\n",
              "      <td>Heikkinen, Miss. Laina</td>\n",
              "      <td>female</td>\n",
              "      <td>26.0</td>\n",
              "      <td>0</td>\n",
              "      <td>0</td>\n",
              "      <td>STON/O2. 3101282</td>\n",
              "      <td>7.9250</td>\n",
              "      <td>NaN</td>\n",
              "      <td>S</td>\n",
              "    </tr>\n",
              "    <tr>\n",
              "      <th>3</th>\n",
              "      <td>4</td>\n",
              "      <td>1</td>\n",
              "      <td>1</td>\n",
              "      <td>Futrelle, Mrs. Jacques Heath (Lily May Peel)</td>\n",
              "      <td>female</td>\n",
              "      <td>35.0</td>\n",
              "      <td>1</td>\n",
              "      <td>0</td>\n",
              "      <td>113803</td>\n",
              "      <td>53.1000</td>\n",
              "      <td>C123</td>\n",
              "      <td>S</td>\n",
              "    </tr>\n",
              "    <tr>\n",
              "      <th>4</th>\n",
              "      <td>5</td>\n",
              "      <td>0</td>\n",
              "      <td>3</td>\n",
              "      <td>Allen, Mr. William Henry</td>\n",
              "      <td>male</td>\n",
              "      <td>35.0</td>\n",
              "      <td>0</td>\n",
              "      <td>0</td>\n",
              "      <td>373450</td>\n",
              "      <td>8.0500</td>\n",
              "      <td>NaN</td>\n",
              "      <td>S</td>\n",
              "    </tr>\n",
              "  </tbody>\n",
              "</table>\n",
              "</div>\n",
              "    <div class=\"colab-df-buttons\">\n",
              "\n",
              "  <div class=\"colab-df-container\">\n",
              "    <button class=\"colab-df-convert\" onclick=\"convertToInteractive('df-0f65e185-d183-40b4-aa17-f335bd212a73')\"\n",
              "            title=\"Convert this dataframe to an interactive table.\"\n",
              "            style=\"display:none;\">\n",
              "\n",
              "  <svg xmlns=\"http://www.w3.org/2000/svg\" height=\"24px\" viewBox=\"0 -960 960 960\">\n",
              "    <path d=\"M120-120v-720h720v720H120Zm60-500h600v-160H180v160Zm220 220h160v-160H400v160Zm0 220h160v-160H400v160ZM180-400h160v-160H180v160Zm440 0h160v-160H620v160ZM180-180h160v-160H180v160Zm440 0h160v-160H620v160Z\"/>\n",
              "  </svg>\n",
              "    </button>\n",
              "\n",
              "  <style>\n",
              "    .colab-df-container {\n",
              "      display:flex;\n",
              "      gap: 12px;\n",
              "    }\n",
              "\n",
              "    .colab-df-convert {\n",
              "      background-color: #E8F0FE;\n",
              "      border: none;\n",
              "      border-radius: 50%;\n",
              "      cursor: pointer;\n",
              "      display: none;\n",
              "      fill: #1967D2;\n",
              "      height: 32px;\n",
              "      padding: 0 0 0 0;\n",
              "      width: 32px;\n",
              "    }\n",
              "\n",
              "    .colab-df-convert:hover {\n",
              "      background-color: #E2EBFA;\n",
              "      box-shadow: 0px 1px 2px rgba(60, 64, 67, 0.3), 0px 1px 3px 1px rgba(60, 64, 67, 0.15);\n",
              "      fill: #174EA6;\n",
              "    }\n",
              "\n",
              "    .colab-df-buttons div {\n",
              "      margin-bottom: 4px;\n",
              "    }\n",
              "\n",
              "    [theme=dark] .colab-df-convert {\n",
              "      background-color: #3B4455;\n",
              "      fill: #D2E3FC;\n",
              "    }\n",
              "\n",
              "    [theme=dark] .colab-df-convert:hover {\n",
              "      background-color: #434B5C;\n",
              "      box-shadow: 0px 1px 3px 1px rgba(0, 0, 0, 0.15);\n",
              "      filter: drop-shadow(0px 1px 2px rgba(0, 0, 0, 0.3));\n",
              "      fill: #FFFFFF;\n",
              "    }\n",
              "  </style>\n",
              "\n",
              "    <script>\n",
              "      const buttonEl =\n",
              "        document.querySelector('#df-0f65e185-d183-40b4-aa17-f335bd212a73 button.colab-df-convert');\n",
              "      buttonEl.style.display =\n",
              "        google.colab.kernel.accessAllowed ? 'block' : 'none';\n",
              "\n",
              "      async function convertToInteractive(key) {\n",
              "        const element = document.querySelector('#df-0f65e185-d183-40b4-aa17-f335bd212a73');\n",
              "        const dataTable =\n",
              "          await google.colab.kernel.invokeFunction('convertToInteractive',\n",
              "                                                    [key], {});\n",
              "        if (!dataTable) return;\n",
              "\n",
              "        const docLinkHtml = 'Like what you see? Visit the ' +\n",
              "          '<a target=\"_blank\" href=https://colab.research.google.com/notebooks/data_table.ipynb>data table notebook</a>'\n",
              "          + ' to learn more about interactive tables.';\n",
              "        element.innerHTML = '';\n",
              "        dataTable['output_type'] = 'display_data';\n",
              "        await google.colab.output.renderOutput(dataTable, element);\n",
              "        const docLink = document.createElement('div');\n",
              "        docLink.innerHTML = docLinkHtml;\n",
              "        element.appendChild(docLink);\n",
              "      }\n",
              "    </script>\n",
              "  </div>\n",
              "\n",
              "\n",
              "<div id=\"df-e9ca0170-6944-4976-97e9-959f1605981c\">\n",
              "  <button class=\"colab-df-quickchart\" onclick=\"quickchart('df-e9ca0170-6944-4976-97e9-959f1605981c')\"\n",
              "            title=\"Suggest charts\"\n",
              "            style=\"display:none;\">\n",
              "\n",
              "<svg xmlns=\"http://www.w3.org/2000/svg\" height=\"24px\"viewBox=\"0 0 24 24\"\n",
              "     width=\"24px\">\n",
              "    <g>\n",
              "        <path d=\"M19 3H5c-1.1 0-2 .9-2 2v14c0 1.1.9 2 2 2h14c1.1 0 2-.9 2-2V5c0-1.1-.9-2-2-2zM9 17H7v-7h2v7zm4 0h-2V7h2v10zm4 0h-2v-4h2v4z\"/>\n",
              "    </g>\n",
              "</svg>\n",
              "  </button>\n",
              "\n",
              "<style>\n",
              "  .colab-df-quickchart {\n",
              "      --bg-color: #E8F0FE;\n",
              "      --fill-color: #1967D2;\n",
              "      --hover-bg-color: #E2EBFA;\n",
              "      --hover-fill-color: #174EA6;\n",
              "      --disabled-fill-color: #AAA;\n",
              "      --disabled-bg-color: #DDD;\n",
              "  }\n",
              "\n",
              "  [theme=dark] .colab-df-quickchart {\n",
              "      --bg-color: #3B4455;\n",
              "      --fill-color: #D2E3FC;\n",
              "      --hover-bg-color: #434B5C;\n",
              "      --hover-fill-color: #FFFFFF;\n",
              "      --disabled-bg-color: #3B4455;\n",
              "      --disabled-fill-color: #666;\n",
              "  }\n",
              "\n",
              "  .colab-df-quickchart {\n",
              "    background-color: var(--bg-color);\n",
              "    border: none;\n",
              "    border-radius: 50%;\n",
              "    cursor: pointer;\n",
              "    display: none;\n",
              "    fill: var(--fill-color);\n",
              "    height: 32px;\n",
              "    padding: 0;\n",
              "    width: 32px;\n",
              "  }\n",
              "\n",
              "  .colab-df-quickchart:hover {\n",
              "    background-color: var(--hover-bg-color);\n",
              "    box-shadow: 0 1px 2px rgba(60, 64, 67, 0.3), 0 1px 3px 1px rgba(60, 64, 67, 0.15);\n",
              "    fill: var(--button-hover-fill-color);\n",
              "  }\n",
              "\n",
              "  .colab-df-quickchart-complete:disabled,\n",
              "  .colab-df-quickchart-complete:disabled:hover {\n",
              "    background-color: var(--disabled-bg-color);\n",
              "    fill: var(--disabled-fill-color);\n",
              "    box-shadow: none;\n",
              "  }\n",
              "\n",
              "  .colab-df-spinner {\n",
              "    border: 2px solid var(--fill-color);\n",
              "    border-color: transparent;\n",
              "    border-bottom-color: var(--fill-color);\n",
              "    animation:\n",
              "      spin 1s steps(1) infinite;\n",
              "  }\n",
              "\n",
              "  @keyframes spin {\n",
              "    0% {\n",
              "      border-color: transparent;\n",
              "      border-bottom-color: var(--fill-color);\n",
              "      border-left-color: var(--fill-color);\n",
              "    }\n",
              "    20% {\n",
              "      border-color: transparent;\n",
              "      border-left-color: var(--fill-color);\n",
              "      border-top-color: var(--fill-color);\n",
              "    }\n",
              "    30% {\n",
              "      border-color: transparent;\n",
              "      border-left-color: var(--fill-color);\n",
              "      border-top-color: var(--fill-color);\n",
              "      border-right-color: var(--fill-color);\n",
              "    }\n",
              "    40% {\n",
              "      border-color: transparent;\n",
              "      border-right-color: var(--fill-color);\n",
              "      border-top-color: var(--fill-color);\n",
              "    }\n",
              "    60% {\n",
              "      border-color: transparent;\n",
              "      border-right-color: var(--fill-color);\n",
              "    }\n",
              "    80% {\n",
              "      border-color: transparent;\n",
              "      border-right-color: var(--fill-color);\n",
              "      border-bottom-color: var(--fill-color);\n",
              "    }\n",
              "    90% {\n",
              "      border-color: transparent;\n",
              "      border-bottom-color: var(--fill-color);\n",
              "    }\n",
              "  }\n",
              "</style>\n",
              "\n",
              "  <script>\n",
              "    async function quickchart(key) {\n",
              "      const quickchartButtonEl =\n",
              "        document.querySelector('#' + key + ' button');\n",
              "      quickchartButtonEl.disabled = true;  // To prevent multiple clicks.\n",
              "      quickchartButtonEl.classList.add('colab-df-spinner');\n",
              "      try {\n",
              "        const charts = await google.colab.kernel.invokeFunction(\n",
              "            'suggestCharts', [key], {});\n",
              "      } catch (error) {\n",
              "        console.error('Error during call to suggestCharts:', error);\n",
              "      }\n",
              "      quickchartButtonEl.classList.remove('colab-df-spinner');\n",
              "      quickchartButtonEl.classList.add('colab-df-quickchart-complete');\n",
              "    }\n",
              "    (() => {\n",
              "      let quickchartButtonEl =\n",
              "        document.querySelector('#df-e9ca0170-6944-4976-97e9-959f1605981c button');\n",
              "      quickchartButtonEl.style.display =\n",
              "        google.colab.kernel.accessAllowed ? 'block' : 'none';\n",
              "    })();\n",
              "  </script>\n",
              "</div>\n",
              "\n",
              "    </div>\n",
              "  </div>\n"
            ],
            "application/vnd.google.colaboratory.intrinsic+json": {
              "type": "dataframe",
              "variable_name": "df",
              "summary": "{\n  \"name\": \"df\",\n  \"rows\": 891,\n  \"fields\": [\n    {\n      \"column\": \"PassengerId\",\n      \"properties\": {\n        \"dtype\": \"number\",\n        \"std\": 257,\n        \"min\": 1,\n        \"max\": 891,\n        \"num_unique_values\": 891,\n        \"samples\": [\n          710,\n          440,\n          841\n        ],\n        \"semantic_type\": \"\",\n        \"description\": \"\"\n      }\n    },\n    {\n      \"column\": \"Survived\",\n      \"properties\": {\n        \"dtype\": \"number\",\n        \"std\": 0,\n        \"min\": 0,\n        \"max\": 1,\n        \"num_unique_values\": 2,\n        \"samples\": [\n          1,\n          0\n        ],\n        \"semantic_type\": \"\",\n        \"description\": \"\"\n      }\n    },\n    {\n      \"column\": \"Pclass\",\n      \"properties\": {\n        \"dtype\": \"number\",\n        \"std\": 0,\n        \"min\": 1,\n        \"max\": 3,\n        \"num_unique_values\": 3,\n        \"samples\": [\n          3,\n          1\n        ],\n        \"semantic_type\": \"\",\n        \"description\": \"\"\n      }\n    },\n    {\n      \"column\": \"Name\",\n      \"properties\": {\n        \"dtype\": \"string\",\n        \"num_unique_values\": 891,\n        \"samples\": [\n          \"Moubarek, Master. Halim Gonios (\\\"William George\\\")\",\n          \"Kvillner, Mr. Johan Henrik Johannesson\"\n        ],\n        \"semantic_type\": \"\",\n        \"description\": \"\"\n      }\n    },\n    {\n      \"column\": \"Sex\",\n      \"properties\": {\n        \"dtype\": \"category\",\n        \"num_unique_values\": 2,\n        \"samples\": [\n          \"female\",\n          \"male\"\n        ],\n        \"semantic_type\": \"\",\n        \"description\": \"\"\n      }\n    },\n    {\n      \"column\": \"Age\",\n      \"properties\": {\n        \"dtype\": \"number\",\n        \"std\": 14.526497332334042,\n        \"min\": 0.42,\n        \"max\": 80.0,\n        \"num_unique_values\": 88,\n        \"samples\": [\n          0.75,\n          22.0\n        ],\n        \"semantic_type\": \"\",\n        \"description\": \"\"\n      }\n    },\n    {\n      \"column\": \"SibSp\",\n      \"properties\": {\n        \"dtype\": \"number\",\n        \"std\": 1,\n        \"min\": 0,\n        \"max\": 8,\n        \"num_unique_values\": 7,\n        \"samples\": [\n          1,\n          0\n        ],\n        \"semantic_type\": \"\",\n        \"description\": \"\"\n      }\n    },\n    {\n      \"column\": \"Parch\",\n      \"properties\": {\n        \"dtype\": \"number\",\n        \"std\": 0,\n        \"min\": 0,\n        \"max\": 6,\n        \"num_unique_values\": 7,\n        \"samples\": [\n          0,\n          1\n        ],\n        \"semantic_type\": \"\",\n        \"description\": \"\"\n      }\n    },\n    {\n      \"column\": \"Ticket\",\n      \"properties\": {\n        \"dtype\": \"string\",\n        \"num_unique_values\": 681,\n        \"samples\": [\n          \"11774\",\n          \"248740\"\n        ],\n        \"semantic_type\": \"\",\n        \"description\": \"\"\n      }\n    },\n    {\n      \"column\": \"Fare\",\n      \"properties\": {\n        \"dtype\": \"number\",\n        \"std\": 49.6934285971809,\n        \"min\": 0.0,\n        \"max\": 512.3292,\n        \"num_unique_values\": 248,\n        \"samples\": [\n          11.2417,\n          51.8625\n        ],\n        \"semantic_type\": \"\",\n        \"description\": \"\"\n      }\n    },\n    {\n      \"column\": \"Cabin\",\n      \"properties\": {\n        \"dtype\": \"category\",\n        \"num_unique_values\": 147,\n        \"samples\": [\n          \"D45\",\n          \"B49\"\n        ],\n        \"semantic_type\": \"\",\n        \"description\": \"\"\n      }\n    },\n    {\n      \"column\": \"Embarked\",\n      \"properties\": {\n        \"dtype\": \"category\",\n        \"num_unique_values\": 3,\n        \"samples\": [\n          \"S\",\n          \"C\"\n        ],\n        \"semantic_type\": \"\",\n        \"description\": \"\"\n      }\n    }\n  ]\n}"
            }
          },
          "metadata": {},
          "execution_count": 6
        }
      ]
    },
    {
      "cell_type": "code",
      "source": [
        "df.describe()"
      ],
      "metadata": {
        "colab": {
          "base_uri": "https://localhost:8080/",
          "height": 300
        },
        "id": "AQttsd0dkTW4",
        "outputId": "0a3a6e8c-7807-464b-9b66-19f50d3a8d50"
      },
      "execution_count": null,
      "outputs": [
        {
          "output_type": "execute_result",
          "data": {
            "text/plain": [
              "       PassengerId    Survived      Pclass         Age       SibSp  \\\n",
              "count   891.000000  891.000000  891.000000  714.000000  891.000000   \n",
              "mean    446.000000    0.383838    2.308642   29.699118    0.523008   \n",
              "std     257.353842    0.486592    0.836071   14.526497    1.102743   \n",
              "min       1.000000    0.000000    1.000000    0.420000    0.000000   \n",
              "25%     223.500000    0.000000    2.000000   20.125000    0.000000   \n",
              "50%     446.000000    0.000000    3.000000   28.000000    0.000000   \n",
              "75%     668.500000    1.000000    3.000000   38.000000    1.000000   \n",
              "max     891.000000    1.000000    3.000000   80.000000    8.000000   \n",
              "\n",
              "            Parch        Fare  \n",
              "count  891.000000  891.000000  \n",
              "mean     0.381594   32.204208  \n",
              "std      0.806057   49.693429  \n",
              "min      0.000000    0.000000  \n",
              "25%      0.000000    7.910400  \n",
              "50%      0.000000   14.454200  \n",
              "75%      0.000000   31.000000  \n",
              "max      6.000000  512.329200  "
            ],
            "text/html": [
              "\n",
              "  <div id=\"df-63fcf53a-7d80-43ff-87ec-53039839612e\" class=\"colab-df-container\">\n",
              "    <div>\n",
              "<style scoped>\n",
              "    .dataframe tbody tr th:only-of-type {\n",
              "        vertical-align: middle;\n",
              "    }\n",
              "\n",
              "    .dataframe tbody tr th {\n",
              "        vertical-align: top;\n",
              "    }\n",
              "\n",
              "    .dataframe thead th {\n",
              "        text-align: right;\n",
              "    }\n",
              "</style>\n",
              "<table border=\"1\" class=\"dataframe\">\n",
              "  <thead>\n",
              "    <tr style=\"text-align: right;\">\n",
              "      <th></th>\n",
              "      <th>PassengerId</th>\n",
              "      <th>Survived</th>\n",
              "      <th>Pclass</th>\n",
              "      <th>Age</th>\n",
              "      <th>SibSp</th>\n",
              "      <th>Parch</th>\n",
              "      <th>Fare</th>\n",
              "    </tr>\n",
              "  </thead>\n",
              "  <tbody>\n",
              "    <tr>\n",
              "      <th>count</th>\n",
              "      <td>891.000000</td>\n",
              "      <td>891.000000</td>\n",
              "      <td>891.000000</td>\n",
              "      <td>714.000000</td>\n",
              "      <td>891.000000</td>\n",
              "      <td>891.000000</td>\n",
              "      <td>891.000000</td>\n",
              "    </tr>\n",
              "    <tr>\n",
              "      <th>mean</th>\n",
              "      <td>446.000000</td>\n",
              "      <td>0.383838</td>\n",
              "      <td>2.308642</td>\n",
              "      <td>29.699118</td>\n",
              "      <td>0.523008</td>\n",
              "      <td>0.381594</td>\n",
              "      <td>32.204208</td>\n",
              "    </tr>\n",
              "    <tr>\n",
              "      <th>std</th>\n",
              "      <td>257.353842</td>\n",
              "      <td>0.486592</td>\n",
              "      <td>0.836071</td>\n",
              "      <td>14.526497</td>\n",
              "      <td>1.102743</td>\n",
              "      <td>0.806057</td>\n",
              "      <td>49.693429</td>\n",
              "    </tr>\n",
              "    <tr>\n",
              "      <th>min</th>\n",
              "      <td>1.000000</td>\n",
              "      <td>0.000000</td>\n",
              "      <td>1.000000</td>\n",
              "      <td>0.420000</td>\n",
              "      <td>0.000000</td>\n",
              "      <td>0.000000</td>\n",
              "      <td>0.000000</td>\n",
              "    </tr>\n",
              "    <tr>\n",
              "      <th>25%</th>\n",
              "      <td>223.500000</td>\n",
              "      <td>0.000000</td>\n",
              "      <td>2.000000</td>\n",
              "      <td>20.125000</td>\n",
              "      <td>0.000000</td>\n",
              "      <td>0.000000</td>\n",
              "      <td>7.910400</td>\n",
              "    </tr>\n",
              "    <tr>\n",
              "      <th>50%</th>\n",
              "      <td>446.000000</td>\n",
              "      <td>0.000000</td>\n",
              "      <td>3.000000</td>\n",
              "      <td>28.000000</td>\n",
              "      <td>0.000000</td>\n",
              "      <td>0.000000</td>\n",
              "      <td>14.454200</td>\n",
              "    </tr>\n",
              "    <tr>\n",
              "      <th>75%</th>\n",
              "      <td>668.500000</td>\n",
              "      <td>1.000000</td>\n",
              "      <td>3.000000</td>\n",
              "      <td>38.000000</td>\n",
              "      <td>1.000000</td>\n",
              "      <td>0.000000</td>\n",
              "      <td>31.000000</td>\n",
              "    </tr>\n",
              "    <tr>\n",
              "      <th>max</th>\n",
              "      <td>891.000000</td>\n",
              "      <td>1.000000</td>\n",
              "      <td>3.000000</td>\n",
              "      <td>80.000000</td>\n",
              "      <td>8.000000</td>\n",
              "      <td>6.000000</td>\n",
              "      <td>512.329200</td>\n",
              "    </tr>\n",
              "  </tbody>\n",
              "</table>\n",
              "</div>\n",
              "    <div class=\"colab-df-buttons\">\n",
              "\n",
              "  <div class=\"colab-df-container\">\n",
              "    <button class=\"colab-df-convert\" onclick=\"convertToInteractive('df-63fcf53a-7d80-43ff-87ec-53039839612e')\"\n",
              "            title=\"Convert this dataframe to an interactive table.\"\n",
              "            style=\"display:none;\">\n",
              "\n",
              "  <svg xmlns=\"http://www.w3.org/2000/svg\" height=\"24px\" viewBox=\"0 -960 960 960\">\n",
              "    <path d=\"M120-120v-720h720v720H120Zm60-500h600v-160H180v160Zm220 220h160v-160H400v160Zm0 220h160v-160H400v160ZM180-400h160v-160H180v160Zm440 0h160v-160H620v160ZM180-180h160v-160H180v160Zm440 0h160v-160H620v160Z\"/>\n",
              "  </svg>\n",
              "    </button>\n",
              "\n",
              "  <style>\n",
              "    .colab-df-container {\n",
              "      display:flex;\n",
              "      gap: 12px;\n",
              "    }\n",
              "\n",
              "    .colab-df-convert {\n",
              "      background-color: #E8F0FE;\n",
              "      border: none;\n",
              "      border-radius: 50%;\n",
              "      cursor: pointer;\n",
              "      display: none;\n",
              "      fill: #1967D2;\n",
              "      height: 32px;\n",
              "      padding: 0 0 0 0;\n",
              "      width: 32px;\n",
              "    }\n",
              "\n",
              "    .colab-df-convert:hover {\n",
              "      background-color: #E2EBFA;\n",
              "      box-shadow: 0px 1px 2px rgba(60, 64, 67, 0.3), 0px 1px 3px 1px rgba(60, 64, 67, 0.15);\n",
              "      fill: #174EA6;\n",
              "    }\n",
              "\n",
              "    .colab-df-buttons div {\n",
              "      margin-bottom: 4px;\n",
              "    }\n",
              "\n",
              "    [theme=dark] .colab-df-convert {\n",
              "      background-color: #3B4455;\n",
              "      fill: #D2E3FC;\n",
              "    }\n",
              "\n",
              "    [theme=dark] .colab-df-convert:hover {\n",
              "      background-color: #434B5C;\n",
              "      box-shadow: 0px 1px 3px 1px rgba(0, 0, 0, 0.15);\n",
              "      filter: drop-shadow(0px 1px 2px rgba(0, 0, 0, 0.3));\n",
              "      fill: #FFFFFF;\n",
              "    }\n",
              "  </style>\n",
              "\n",
              "    <script>\n",
              "      const buttonEl =\n",
              "        document.querySelector('#df-63fcf53a-7d80-43ff-87ec-53039839612e button.colab-df-convert');\n",
              "      buttonEl.style.display =\n",
              "        google.colab.kernel.accessAllowed ? 'block' : 'none';\n",
              "\n",
              "      async function convertToInteractive(key) {\n",
              "        const element = document.querySelector('#df-63fcf53a-7d80-43ff-87ec-53039839612e');\n",
              "        const dataTable =\n",
              "          await google.colab.kernel.invokeFunction('convertToInteractive',\n",
              "                                                    [key], {});\n",
              "        if (!dataTable) return;\n",
              "\n",
              "        const docLinkHtml = 'Like what you see? Visit the ' +\n",
              "          '<a target=\"_blank\" href=https://colab.research.google.com/notebooks/data_table.ipynb>data table notebook</a>'\n",
              "          + ' to learn more about interactive tables.';\n",
              "        element.innerHTML = '';\n",
              "        dataTable['output_type'] = 'display_data';\n",
              "        await google.colab.output.renderOutput(dataTable, element);\n",
              "        const docLink = document.createElement('div');\n",
              "        docLink.innerHTML = docLinkHtml;\n",
              "        element.appendChild(docLink);\n",
              "      }\n",
              "    </script>\n",
              "  </div>\n",
              "\n",
              "\n",
              "<div id=\"df-0ea55b38-57b7-4076-942c-276d15cff65f\">\n",
              "  <button class=\"colab-df-quickchart\" onclick=\"quickchart('df-0ea55b38-57b7-4076-942c-276d15cff65f')\"\n",
              "            title=\"Suggest charts\"\n",
              "            style=\"display:none;\">\n",
              "\n",
              "<svg xmlns=\"http://www.w3.org/2000/svg\" height=\"24px\"viewBox=\"0 0 24 24\"\n",
              "     width=\"24px\">\n",
              "    <g>\n",
              "        <path d=\"M19 3H5c-1.1 0-2 .9-2 2v14c0 1.1.9 2 2 2h14c1.1 0 2-.9 2-2V5c0-1.1-.9-2-2-2zM9 17H7v-7h2v7zm4 0h-2V7h2v10zm4 0h-2v-4h2v4z\"/>\n",
              "    </g>\n",
              "</svg>\n",
              "  </button>\n",
              "\n",
              "<style>\n",
              "  .colab-df-quickchart {\n",
              "      --bg-color: #E8F0FE;\n",
              "      --fill-color: #1967D2;\n",
              "      --hover-bg-color: #E2EBFA;\n",
              "      --hover-fill-color: #174EA6;\n",
              "      --disabled-fill-color: #AAA;\n",
              "      --disabled-bg-color: #DDD;\n",
              "  }\n",
              "\n",
              "  [theme=dark] .colab-df-quickchart {\n",
              "      --bg-color: #3B4455;\n",
              "      --fill-color: #D2E3FC;\n",
              "      --hover-bg-color: #434B5C;\n",
              "      --hover-fill-color: #FFFFFF;\n",
              "      --disabled-bg-color: #3B4455;\n",
              "      --disabled-fill-color: #666;\n",
              "  }\n",
              "\n",
              "  .colab-df-quickchart {\n",
              "    background-color: var(--bg-color);\n",
              "    border: none;\n",
              "    border-radius: 50%;\n",
              "    cursor: pointer;\n",
              "    display: none;\n",
              "    fill: var(--fill-color);\n",
              "    height: 32px;\n",
              "    padding: 0;\n",
              "    width: 32px;\n",
              "  }\n",
              "\n",
              "  .colab-df-quickchart:hover {\n",
              "    background-color: var(--hover-bg-color);\n",
              "    box-shadow: 0 1px 2px rgba(60, 64, 67, 0.3), 0 1px 3px 1px rgba(60, 64, 67, 0.15);\n",
              "    fill: var(--button-hover-fill-color);\n",
              "  }\n",
              "\n",
              "  .colab-df-quickchart-complete:disabled,\n",
              "  .colab-df-quickchart-complete:disabled:hover {\n",
              "    background-color: var(--disabled-bg-color);\n",
              "    fill: var(--disabled-fill-color);\n",
              "    box-shadow: none;\n",
              "  }\n",
              "\n",
              "  .colab-df-spinner {\n",
              "    border: 2px solid var(--fill-color);\n",
              "    border-color: transparent;\n",
              "    border-bottom-color: var(--fill-color);\n",
              "    animation:\n",
              "      spin 1s steps(1) infinite;\n",
              "  }\n",
              "\n",
              "  @keyframes spin {\n",
              "    0% {\n",
              "      border-color: transparent;\n",
              "      border-bottom-color: var(--fill-color);\n",
              "      border-left-color: var(--fill-color);\n",
              "    }\n",
              "    20% {\n",
              "      border-color: transparent;\n",
              "      border-left-color: var(--fill-color);\n",
              "      border-top-color: var(--fill-color);\n",
              "    }\n",
              "    30% {\n",
              "      border-color: transparent;\n",
              "      border-left-color: var(--fill-color);\n",
              "      border-top-color: var(--fill-color);\n",
              "      border-right-color: var(--fill-color);\n",
              "    }\n",
              "    40% {\n",
              "      border-color: transparent;\n",
              "      border-right-color: var(--fill-color);\n",
              "      border-top-color: var(--fill-color);\n",
              "    }\n",
              "    60% {\n",
              "      border-color: transparent;\n",
              "      border-right-color: var(--fill-color);\n",
              "    }\n",
              "    80% {\n",
              "      border-color: transparent;\n",
              "      border-right-color: var(--fill-color);\n",
              "      border-bottom-color: var(--fill-color);\n",
              "    }\n",
              "    90% {\n",
              "      border-color: transparent;\n",
              "      border-bottom-color: var(--fill-color);\n",
              "    }\n",
              "  }\n",
              "</style>\n",
              "\n",
              "  <script>\n",
              "    async function quickchart(key) {\n",
              "      const quickchartButtonEl =\n",
              "        document.querySelector('#' + key + ' button');\n",
              "      quickchartButtonEl.disabled = true;  // To prevent multiple clicks.\n",
              "      quickchartButtonEl.classList.add('colab-df-spinner');\n",
              "      try {\n",
              "        const charts = await google.colab.kernel.invokeFunction(\n",
              "            'suggestCharts', [key], {});\n",
              "      } catch (error) {\n",
              "        console.error('Error during call to suggestCharts:', error);\n",
              "      }\n",
              "      quickchartButtonEl.classList.remove('colab-df-spinner');\n",
              "      quickchartButtonEl.classList.add('colab-df-quickchart-complete');\n",
              "    }\n",
              "    (() => {\n",
              "      let quickchartButtonEl =\n",
              "        document.querySelector('#df-0ea55b38-57b7-4076-942c-276d15cff65f button');\n",
              "      quickchartButtonEl.style.display =\n",
              "        google.colab.kernel.accessAllowed ? 'block' : 'none';\n",
              "    })();\n",
              "  </script>\n",
              "</div>\n",
              "\n",
              "    </div>\n",
              "  </div>\n"
            ],
            "application/vnd.google.colaboratory.intrinsic+json": {
              "type": "dataframe",
              "summary": "{\n  \"name\": \"df\",\n  \"rows\": 8,\n  \"fields\": [\n    {\n      \"column\": \"PassengerId\",\n      \"properties\": {\n        \"dtype\": \"number\",\n        \"std\": 320.8159711429855,\n        \"min\": 1.0,\n        \"max\": 891.0,\n        \"num_unique_values\": 6,\n        \"samples\": [\n          891.0,\n          446.0,\n          668.5\n        ],\n        \"semantic_type\": \"\",\n        \"description\": \"\"\n      }\n    },\n    {\n      \"column\": \"Survived\",\n      \"properties\": {\n        \"dtype\": \"number\",\n        \"std\": 314.8713661874558,\n        \"min\": 0.0,\n        \"max\": 891.0,\n        \"num_unique_values\": 5,\n        \"samples\": [\n          0.3838383838383838,\n          1.0,\n          0.4865924542648575\n        ],\n        \"semantic_type\": \"\",\n        \"description\": \"\"\n      }\n    },\n    {\n      \"column\": \"Pclass\",\n      \"properties\": {\n        \"dtype\": \"number\",\n        \"std\": 314.2523437079694,\n        \"min\": 0.836071240977049,\n        \"max\": 891.0,\n        \"num_unique_values\": 6,\n        \"samples\": [\n          891.0,\n          2.308641975308642,\n          3.0\n        ],\n        \"semantic_type\": \"\",\n        \"description\": \"\"\n      }\n    },\n    {\n      \"column\": \"Age\",\n      \"properties\": {\n        \"dtype\": \"number\",\n        \"std\": 242.9056731818781,\n        \"min\": 0.42,\n        \"max\": 714.0,\n        \"num_unique_values\": 8,\n        \"samples\": [\n          29.69911764705882,\n          28.0,\n          714.0\n        ],\n        \"semantic_type\": \"\",\n        \"description\": \"\"\n      }\n    },\n    {\n      \"column\": \"SibSp\",\n      \"properties\": {\n        \"dtype\": \"number\",\n        \"std\": 314.4908277465442,\n        \"min\": 0.0,\n        \"max\": 891.0,\n        \"num_unique_values\": 6,\n        \"samples\": [\n          891.0,\n          0.5230078563411896,\n          8.0\n        ],\n        \"semantic_type\": \"\",\n        \"description\": \"\"\n      }\n    },\n    {\n      \"column\": \"Parch\",\n      \"properties\": {\n        \"dtype\": \"number\",\n        \"std\": 314.65971717879,\n        \"min\": 0.0,\n        \"max\": 891.0,\n        \"num_unique_values\": 5,\n        \"samples\": [\n          0.38159371492704824,\n          6.0,\n          0.8060572211299483\n        ],\n        \"semantic_type\": \"\",\n        \"description\": \"\"\n      }\n    },\n    {\n      \"column\": \"Fare\",\n      \"properties\": {\n        \"dtype\": \"number\",\n        \"std\": 330.6256632228578,\n        \"min\": 0.0,\n        \"max\": 891.0,\n        \"num_unique_values\": 8,\n        \"samples\": [\n          32.204207968574636,\n          14.4542,\n          891.0\n        ],\n        \"semantic_type\": \"\",\n        \"description\": \"\"\n      }\n    }\n  ]\n}"
            }
          },
          "metadata": {},
          "execution_count": 7
        }
      ]
    },
    {
      "cell_type": "code",
      "source": [
        "df.isnull().sum()"
      ],
      "metadata": {
        "colab": {
          "base_uri": "https://localhost:8080/"
        },
        "id": "NBaTW2pckZBG",
        "outputId": "2e1007e9-a63e-45a0-c19c-2b187dde84a8"
      },
      "execution_count": null,
      "outputs": [
        {
          "output_type": "execute_result",
          "data": {
            "text/plain": [
              "PassengerId      0\n",
              "Survived         0\n",
              "Pclass           0\n",
              "Name             0\n",
              "Sex              0\n",
              "Age            177\n",
              "SibSp            0\n",
              "Parch            0\n",
              "Ticket           0\n",
              "Fare             0\n",
              "Cabin          687\n",
              "Embarked         2\n",
              "dtype: int64"
            ]
          },
          "metadata": {},
          "execution_count": 8
        }
      ]
    },
    {
      "cell_type": "markdown",
      "source": [
        "Dropping that coloumn that have no co relation with survive data column\n"
      ],
      "metadata": {
        "id": "H6tsBOsqksCG"
      }
    },
    {
      "cell_type": "code",
      "source": [
        "df.drop(['PassengerId', 'Name', 'Cabin', 'Ticket'], axis = 1, inplace=True)"
      ],
      "metadata": {
        "id": "BkY7VJHFk1Ja"
      },
      "execution_count": null,
      "outputs": []
    },
    {
      "cell_type": "code",
      "source": [
        "df.head()"
      ],
      "metadata": {
        "colab": {
          "base_uri": "https://localhost:8080/",
          "height": 206
        },
        "id": "K1DpG-jvlJxc",
        "outputId": "ff24203e-0b8b-482e-8460-adea6555dcf3"
      },
      "execution_count": null,
      "outputs": [
        {
          "output_type": "execute_result",
          "data": {
            "text/plain": [
              "   Survived  Pclass     Sex   Age  SibSp  Parch     Fare Embarked\n",
              "0         0       3    male  22.0      1      0   7.2500        S\n",
              "1         1       1  female  38.0      1      0  71.2833        C\n",
              "2         1       3  female  26.0      0      0   7.9250        S\n",
              "3         1       1  female  35.0      1      0  53.1000        S\n",
              "4         0       3    male  35.0      0      0   8.0500        S"
            ],
            "text/html": [
              "\n",
              "  <div id=\"df-ec513277-1148-4813-83b0-445fdbc2bc1c\" class=\"colab-df-container\">\n",
              "    <div>\n",
              "<style scoped>\n",
              "    .dataframe tbody tr th:only-of-type {\n",
              "        vertical-align: middle;\n",
              "    }\n",
              "\n",
              "    .dataframe tbody tr th {\n",
              "        vertical-align: top;\n",
              "    }\n",
              "\n",
              "    .dataframe thead th {\n",
              "        text-align: right;\n",
              "    }\n",
              "</style>\n",
              "<table border=\"1\" class=\"dataframe\">\n",
              "  <thead>\n",
              "    <tr style=\"text-align: right;\">\n",
              "      <th></th>\n",
              "      <th>Survived</th>\n",
              "      <th>Pclass</th>\n",
              "      <th>Sex</th>\n",
              "      <th>Age</th>\n",
              "      <th>SibSp</th>\n",
              "      <th>Parch</th>\n",
              "      <th>Fare</th>\n",
              "      <th>Embarked</th>\n",
              "    </tr>\n",
              "  </thead>\n",
              "  <tbody>\n",
              "    <tr>\n",
              "      <th>0</th>\n",
              "      <td>0</td>\n",
              "      <td>3</td>\n",
              "      <td>male</td>\n",
              "      <td>22.0</td>\n",
              "      <td>1</td>\n",
              "      <td>0</td>\n",
              "      <td>7.2500</td>\n",
              "      <td>S</td>\n",
              "    </tr>\n",
              "    <tr>\n",
              "      <th>1</th>\n",
              "      <td>1</td>\n",
              "      <td>1</td>\n",
              "      <td>female</td>\n",
              "      <td>38.0</td>\n",
              "      <td>1</td>\n",
              "      <td>0</td>\n",
              "      <td>71.2833</td>\n",
              "      <td>C</td>\n",
              "    </tr>\n",
              "    <tr>\n",
              "      <th>2</th>\n",
              "      <td>1</td>\n",
              "      <td>3</td>\n",
              "      <td>female</td>\n",
              "      <td>26.0</td>\n",
              "      <td>0</td>\n",
              "      <td>0</td>\n",
              "      <td>7.9250</td>\n",
              "      <td>S</td>\n",
              "    </tr>\n",
              "    <tr>\n",
              "      <th>3</th>\n",
              "      <td>1</td>\n",
              "      <td>1</td>\n",
              "      <td>female</td>\n",
              "      <td>35.0</td>\n",
              "      <td>1</td>\n",
              "      <td>0</td>\n",
              "      <td>53.1000</td>\n",
              "      <td>S</td>\n",
              "    </tr>\n",
              "    <tr>\n",
              "      <th>4</th>\n",
              "      <td>0</td>\n",
              "      <td>3</td>\n",
              "      <td>male</td>\n",
              "      <td>35.0</td>\n",
              "      <td>0</td>\n",
              "      <td>0</td>\n",
              "      <td>8.0500</td>\n",
              "      <td>S</td>\n",
              "    </tr>\n",
              "  </tbody>\n",
              "</table>\n",
              "</div>\n",
              "    <div class=\"colab-df-buttons\">\n",
              "\n",
              "  <div class=\"colab-df-container\">\n",
              "    <button class=\"colab-df-convert\" onclick=\"convertToInteractive('df-ec513277-1148-4813-83b0-445fdbc2bc1c')\"\n",
              "            title=\"Convert this dataframe to an interactive table.\"\n",
              "            style=\"display:none;\">\n",
              "\n",
              "  <svg xmlns=\"http://www.w3.org/2000/svg\" height=\"24px\" viewBox=\"0 -960 960 960\">\n",
              "    <path d=\"M120-120v-720h720v720H120Zm60-500h600v-160H180v160Zm220 220h160v-160H400v160Zm0 220h160v-160H400v160ZM180-400h160v-160H180v160Zm440 0h160v-160H620v160ZM180-180h160v-160H180v160Zm440 0h160v-160H620v160Z\"/>\n",
              "  </svg>\n",
              "    </button>\n",
              "\n",
              "  <style>\n",
              "    .colab-df-container {\n",
              "      display:flex;\n",
              "      gap: 12px;\n",
              "    }\n",
              "\n",
              "    .colab-df-convert {\n",
              "      background-color: #E8F0FE;\n",
              "      border: none;\n",
              "      border-radius: 50%;\n",
              "      cursor: pointer;\n",
              "      display: none;\n",
              "      fill: #1967D2;\n",
              "      height: 32px;\n",
              "      padding: 0 0 0 0;\n",
              "      width: 32px;\n",
              "    }\n",
              "\n",
              "    .colab-df-convert:hover {\n",
              "      background-color: #E2EBFA;\n",
              "      box-shadow: 0px 1px 2px rgba(60, 64, 67, 0.3), 0px 1px 3px 1px rgba(60, 64, 67, 0.15);\n",
              "      fill: #174EA6;\n",
              "    }\n",
              "\n",
              "    .colab-df-buttons div {\n",
              "      margin-bottom: 4px;\n",
              "    }\n",
              "\n",
              "    [theme=dark] .colab-df-convert {\n",
              "      background-color: #3B4455;\n",
              "      fill: #D2E3FC;\n",
              "    }\n",
              "\n",
              "    [theme=dark] .colab-df-convert:hover {\n",
              "      background-color: #434B5C;\n",
              "      box-shadow: 0px 1px 3px 1px rgba(0, 0, 0, 0.15);\n",
              "      filter: drop-shadow(0px 1px 2px rgba(0, 0, 0, 0.3));\n",
              "      fill: #FFFFFF;\n",
              "    }\n",
              "  </style>\n",
              "\n",
              "    <script>\n",
              "      const buttonEl =\n",
              "        document.querySelector('#df-ec513277-1148-4813-83b0-445fdbc2bc1c button.colab-df-convert');\n",
              "      buttonEl.style.display =\n",
              "        google.colab.kernel.accessAllowed ? 'block' : 'none';\n",
              "\n",
              "      async function convertToInteractive(key) {\n",
              "        const element = document.querySelector('#df-ec513277-1148-4813-83b0-445fdbc2bc1c');\n",
              "        const dataTable =\n",
              "          await google.colab.kernel.invokeFunction('convertToInteractive',\n",
              "                                                    [key], {});\n",
              "        if (!dataTable) return;\n",
              "\n",
              "        const docLinkHtml = 'Like what you see? Visit the ' +\n",
              "          '<a target=\"_blank\" href=https://colab.research.google.com/notebooks/data_table.ipynb>data table notebook</a>'\n",
              "          + ' to learn more about interactive tables.';\n",
              "        element.innerHTML = '';\n",
              "        dataTable['output_type'] = 'display_data';\n",
              "        await google.colab.output.renderOutput(dataTable, element);\n",
              "        const docLink = document.createElement('div');\n",
              "        docLink.innerHTML = docLinkHtml;\n",
              "        element.appendChild(docLink);\n",
              "      }\n",
              "    </script>\n",
              "  </div>\n",
              "\n",
              "\n",
              "<div id=\"df-60fa4b0e-2612-4483-9561-32e668dd9bb5\">\n",
              "  <button class=\"colab-df-quickchart\" onclick=\"quickchart('df-60fa4b0e-2612-4483-9561-32e668dd9bb5')\"\n",
              "            title=\"Suggest charts\"\n",
              "            style=\"display:none;\">\n",
              "\n",
              "<svg xmlns=\"http://www.w3.org/2000/svg\" height=\"24px\"viewBox=\"0 0 24 24\"\n",
              "     width=\"24px\">\n",
              "    <g>\n",
              "        <path d=\"M19 3H5c-1.1 0-2 .9-2 2v14c0 1.1.9 2 2 2h14c1.1 0 2-.9 2-2V5c0-1.1-.9-2-2-2zM9 17H7v-7h2v7zm4 0h-2V7h2v10zm4 0h-2v-4h2v4z\"/>\n",
              "    </g>\n",
              "</svg>\n",
              "  </button>\n",
              "\n",
              "<style>\n",
              "  .colab-df-quickchart {\n",
              "      --bg-color: #E8F0FE;\n",
              "      --fill-color: #1967D2;\n",
              "      --hover-bg-color: #E2EBFA;\n",
              "      --hover-fill-color: #174EA6;\n",
              "      --disabled-fill-color: #AAA;\n",
              "      --disabled-bg-color: #DDD;\n",
              "  }\n",
              "\n",
              "  [theme=dark] .colab-df-quickchart {\n",
              "      --bg-color: #3B4455;\n",
              "      --fill-color: #D2E3FC;\n",
              "      --hover-bg-color: #434B5C;\n",
              "      --hover-fill-color: #FFFFFF;\n",
              "      --disabled-bg-color: #3B4455;\n",
              "      --disabled-fill-color: #666;\n",
              "  }\n",
              "\n",
              "  .colab-df-quickchart {\n",
              "    background-color: var(--bg-color);\n",
              "    border: none;\n",
              "    border-radius: 50%;\n",
              "    cursor: pointer;\n",
              "    display: none;\n",
              "    fill: var(--fill-color);\n",
              "    height: 32px;\n",
              "    padding: 0;\n",
              "    width: 32px;\n",
              "  }\n",
              "\n",
              "  .colab-df-quickchart:hover {\n",
              "    background-color: var(--hover-bg-color);\n",
              "    box-shadow: 0 1px 2px rgba(60, 64, 67, 0.3), 0 1px 3px 1px rgba(60, 64, 67, 0.15);\n",
              "    fill: var(--button-hover-fill-color);\n",
              "  }\n",
              "\n",
              "  .colab-df-quickchart-complete:disabled,\n",
              "  .colab-df-quickchart-complete:disabled:hover {\n",
              "    background-color: var(--disabled-bg-color);\n",
              "    fill: var(--disabled-fill-color);\n",
              "    box-shadow: none;\n",
              "  }\n",
              "\n",
              "  .colab-df-spinner {\n",
              "    border: 2px solid var(--fill-color);\n",
              "    border-color: transparent;\n",
              "    border-bottom-color: var(--fill-color);\n",
              "    animation:\n",
              "      spin 1s steps(1) infinite;\n",
              "  }\n",
              "\n",
              "  @keyframes spin {\n",
              "    0% {\n",
              "      border-color: transparent;\n",
              "      border-bottom-color: var(--fill-color);\n",
              "      border-left-color: var(--fill-color);\n",
              "    }\n",
              "    20% {\n",
              "      border-color: transparent;\n",
              "      border-left-color: var(--fill-color);\n",
              "      border-top-color: var(--fill-color);\n",
              "    }\n",
              "    30% {\n",
              "      border-color: transparent;\n",
              "      border-left-color: var(--fill-color);\n",
              "      border-top-color: var(--fill-color);\n",
              "      border-right-color: var(--fill-color);\n",
              "    }\n",
              "    40% {\n",
              "      border-color: transparent;\n",
              "      border-right-color: var(--fill-color);\n",
              "      border-top-color: var(--fill-color);\n",
              "    }\n",
              "    60% {\n",
              "      border-color: transparent;\n",
              "      border-right-color: var(--fill-color);\n",
              "    }\n",
              "    80% {\n",
              "      border-color: transparent;\n",
              "      border-right-color: var(--fill-color);\n",
              "      border-bottom-color: var(--fill-color);\n",
              "    }\n",
              "    90% {\n",
              "      border-color: transparent;\n",
              "      border-bottom-color: var(--fill-color);\n",
              "    }\n",
              "  }\n",
              "</style>\n",
              "\n",
              "  <script>\n",
              "    async function quickchart(key) {\n",
              "      const quickchartButtonEl =\n",
              "        document.querySelector('#' + key + ' button');\n",
              "      quickchartButtonEl.disabled = true;  // To prevent multiple clicks.\n",
              "      quickchartButtonEl.classList.add('colab-df-spinner');\n",
              "      try {\n",
              "        const charts = await google.colab.kernel.invokeFunction(\n",
              "            'suggestCharts', [key], {});\n",
              "      } catch (error) {\n",
              "        console.error('Error during call to suggestCharts:', error);\n",
              "      }\n",
              "      quickchartButtonEl.classList.remove('colab-df-spinner');\n",
              "      quickchartButtonEl.classList.add('colab-df-quickchart-complete');\n",
              "    }\n",
              "    (() => {\n",
              "      let quickchartButtonEl =\n",
              "        document.querySelector('#df-60fa4b0e-2612-4483-9561-32e668dd9bb5 button');\n",
              "      quickchartButtonEl.style.display =\n",
              "        google.colab.kernel.accessAllowed ? 'block' : 'none';\n",
              "    })();\n",
              "  </script>\n",
              "</div>\n",
              "\n",
              "    </div>\n",
              "  </div>\n"
            ],
            "application/vnd.google.colaboratory.intrinsic+json": {
              "type": "dataframe",
              "variable_name": "df",
              "summary": "{\n  \"name\": \"df\",\n  \"rows\": 891,\n  \"fields\": [\n    {\n      \"column\": \"Survived\",\n      \"properties\": {\n        \"dtype\": \"number\",\n        \"std\": 0,\n        \"min\": 0,\n        \"max\": 1,\n        \"num_unique_values\": 2,\n        \"samples\": [\n          1,\n          0\n        ],\n        \"semantic_type\": \"\",\n        \"description\": \"\"\n      }\n    },\n    {\n      \"column\": \"Pclass\",\n      \"properties\": {\n        \"dtype\": \"number\",\n        \"std\": 0,\n        \"min\": 1,\n        \"max\": 3,\n        \"num_unique_values\": 3,\n        \"samples\": [\n          3,\n          1\n        ],\n        \"semantic_type\": \"\",\n        \"description\": \"\"\n      }\n    },\n    {\n      \"column\": \"Sex\",\n      \"properties\": {\n        \"dtype\": \"category\",\n        \"num_unique_values\": 2,\n        \"samples\": [\n          \"female\",\n          \"male\"\n        ],\n        \"semantic_type\": \"\",\n        \"description\": \"\"\n      }\n    },\n    {\n      \"column\": \"Age\",\n      \"properties\": {\n        \"dtype\": \"number\",\n        \"std\": 14.526497332334042,\n        \"min\": 0.42,\n        \"max\": 80.0,\n        \"num_unique_values\": 88,\n        \"samples\": [\n          0.75,\n          22.0\n        ],\n        \"semantic_type\": \"\",\n        \"description\": \"\"\n      }\n    },\n    {\n      \"column\": \"SibSp\",\n      \"properties\": {\n        \"dtype\": \"number\",\n        \"std\": 1,\n        \"min\": 0,\n        \"max\": 8,\n        \"num_unique_values\": 7,\n        \"samples\": [\n          1,\n          0\n        ],\n        \"semantic_type\": \"\",\n        \"description\": \"\"\n      }\n    },\n    {\n      \"column\": \"Parch\",\n      \"properties\": {\n        \"dtype\": \"number\",\n        \"std\": 0,\n        \"min\": 0,\n        \"max\": 6,\n        \"num_unique_values\": 7,\n        \"samples\": [\n          0,\n          1\n        ],\n        \"semantic_type\": \"\",\n        \"description\": \"\"\n      }\n    },\n    {\n      \"column\": \"Fare\",\n      \"properties\": {\n        \"dtype\": \"number\",\n        \"std\": 49.6934285971809,\n        \"min\": 0.0,\n        \"max\": 512.3292,\n        \"num_unique_values\": 248,\n        \"samples\": [\n          11.2417,\n          51.8625\n        ],\n        \"semantic_type\": \"\",\n        \"description\": \"\"\n      }\n    },\n    {\n      \"column\": \"Embarked\",\n      \"properties\": {\n        \"dtype\": \"category\",\n        \"num_unique_values\": 3,\n        \"samples\": [\n          \"S\",\n          \"C\"\n        ],\n        \"semantic_type\": \"\",\n        \"description\": \"\"\n      }\n    }\n  ]\n}"
            }
          },
          "metadata": {},
          "execution_count": 10
        }
      ]
    },
    {
      "cell_type": "code",
      "source": [
        "df.shape"
      ],
      "metadata": {
        "colab": {
          "base_uri": "https://localhost:8080/"
        },
        "id": "L_zNV53Emj1S",
        "outputId": "0e6855f0-e320-4bef-94bd-d02bb7092c40"
      },
      "execution_count": null,
      "outputs": [
        {
          "output_type": "execute_result",
          "data": {
            "text/plain": [
              "(891, 8)"
            ]
          },
          "metadata": {},
          "execution_count": 11
        }
      ]
    },
    {
      "cell_type": "code",
      "source": [
        "df.isnull().sum()"
      ],
      "metadata": {
        "colab": {
          "base_uri": "https://localhost:8080/"
        },
        "id": "SA9n_Bdim-Gi",
        "outputId": "0f264f71-da07-4b6a-e563-e7faf5f85b98"
      },
      "execution_count": null,
      "outputs": [
        {
          "output_type": "execute_result",
          "data": {
            "text/plain": [
              "Survived      0\n",
              "Pclass        0\n",
              "Sex           0\n",
              "Age         177\n",
              "SibSp         0\n",
              "Parch         0\n",
              "Fare          0\n",
              "Embarked      2\n",
              "dtype: int64"
            ]
          },
          "metadata": {},
          "execution_count": 12
        }
      ]
    },
    {
      "cell_type": "code",
      "source": [
        "#drop empty rows from data set\n",
        "df.dropna(inplace=True)\n"
      ],
      "metadata": {
        "id": "Gf0ytV56njXZ"
      },
      "execution_count": null,
      "outputs": []
    },
    {
      "cell_type": "code",
      "source": [
        "#in sex column male replace with 0 and female replace with 1\n",
        "\n",
        "df['Sex'].replace(['male', 'female'], [0, 1], inplace=True)\n",
        "df['Embarked'].replace(['S', 'C', 'Q'], [0, 1,2], inplace=True)"
      ],
      "metadata": {
        "id": "FF8oIzBQnseX"
      },
      "execution_count": null,
      "outputs": []
    },
    {
      "cell_type": "code",
      "source": [
        "df.head()"
      ],
      "metadata": {
        "colab": {
          "base_uri": "https://localhost:8080/",
          "height": 206
        },
        "id": "z1BJRHCqpmOu",
        "outputId": "50b5df34-97d4-44a5-cfc2-cc747eb7d431"
      },
      "execution_count": null,
      "outputs": [
        {
          "output_type": "execute_result",
          "data": {
            "text/plain": [
              "   Survived  Pclass  Sex   Age  SibSp  Parch     Fare  Embarked\n",
              "0         0       3    0  22.0      1      0   7.2500         0\n",
              "1         1       1    1  38.0      1      0  71.2833         1\n",
              "2         1       3    1  26.0      0      0   7.9250         0\n",
              "3         1       1    1  35.0      1      0  53.1000         0\n",
              "4         0       3    0  35.0      0      0   8.0500         0"
            ],
            "text/html": [
              "\n",
              "  <div id=\"df-1e93f9d2-1182-48c5-b335-217ae05acd8a\" class=\"colab-df-container\">\n",
              "    <div>\n",
              "<style scoped>\n",
              "    .dataframe tbody tr th:only-of-type {\n",
              "        vertical-align: middle;\n",
              "    }\n",
              "\n",
              "    .dataframe tbody tr th {\n",
              "        vertical-align: top;\n",
              "    }\n",
              "\n",
              "    .dataframe thead th {\n",
              "        text-align: right;\n",
              "    }\n",
              "</style>\n",
              "<table border=\"1\" class=\"dataframe\">\n",
              "  <thead>\n",
              "    <tr style=\"text-align: right;\">\n",
              "      <th></th>\n",
              "      <th>Survived</th>\n",
              "      <th>Pclass</th>\n",
              "      <th>Sex</th>\n",
              "      <th>Age</th>\n",
              "      <th>SibSp</th>\n",
              "      <th>Parch</th>\n",
              "      <th>Fare</th>\n",
              "      <th>Embarked</th>\n",
              "    </tr>\n",
              "  </thead>\n",
              "  <tbody>\n",
              "    <tr>\n",
              "      <th>0</th>\n",
              "      <td>0</td>\n",
              "      <td>3</td>\n",
              "      <td>0</td>\n",
              "      <td>22.0</td>\n",
              "      <td>1</td>\n",
              "      <td>0</td>\n",
              "      <td>7.2500</td>\n",
              "      <td>0</td>\n",
              "    </tr>\n",
              "    <tr>\n",
              "      <th>1</th>\n",
              "      <td>1</td>\n",
              "      <td>1</td>\n",
              "      <td>1</td>\n",
              "      <td>38.0</td>\n",
              "      <td>1</td>\n",
              "      <td>0</td>\n",
              "      <td>71.2833</td>\n",
              "      <td>1</td>\n",
              "    </tr>\n",
              "    <tr>\n",
              "      <th>2</th>\n",
              "      <td>1</td>\n",
              "      <td>3</td>\n",
              "      <td>1</td>\n",
              "      <td>26.0</td>\n",
              "      <td>0</td>\n",
              "      <td>0</td>\n",
              "      <td>7.9250</td>\n",
              "      <td>0</td>\n",
              "    </tr>\n",
              "    <tr>\n",
              "      <th>3</th>\n",
              "      <td>1</td>\n",
              "      <td>1</td>\n",
              "      <td>1</td>\n",
              "      <td>35.0</td>\n",
              "      <td>1</td>\n",
              "      <td>0</td>\n",
              "      <td>53.1000</td>\n",
              "      <td>0</td>\n",
              "    </tr>\n",
              "    <tr>\n",
              "      <th>4</th>\n",
              "      <td>0</td>\n",
              "      <td>3</td>\n",
              "      <td>0</td>\n",
              "      <td>35.0</td>\n",
              "      <td>0</td>\n",
              "      <td>0</td>\n",
              "      <td>8.0500</td>\n",
              "      <td>0</td>\n",
              "    </tr>\n",
              "  </tbody>\n",
              "</table>\n",
              "</div>\n",
              "    <div class=\"colab-df-buttons\">\n",
              "\n",
              "  <div class=\"colab-df-container\">\n",
              "    <button class=\"colab-df-convert\" onclick=\"convertToInteractive('df-1e93f9d2-1182-48c5-b335-217ae05acd8a')\"\n",
              "            title=\"Convert this dataframe to an interactive table.\"\n",
              "            style=\"display:none;\">\n",
              "\n",
              "  <svg xmlns=\"http://www.w3.org/2000/svg\" height=\"24px\" viewBox=\"0 -960 960 960\">\n",
              "    <path d=\"M120-120v-720h720v720H120Zm60-500h600v-160H180v160Zm220 220h160v-160H400v160Zm0 220h160v-160H400v160ZM180-400h160v-160H180v160Zm440 0h160v-160H620v160ZM180-180h160v-160H180v160Zm440 0h160v-160H620v160Z\"/>\n",
              "  </svg>\n",
              "    </button>\n",
              "\n",
              "  <style>\n",
              "    .colab-df-container {\n",
              "      display:flex;\n",
              "      gap: 12px;\n",
              "    }\n",
              "\n",
              "    .colab-df-convert {\n",
              "      background-color: #E8F0FE;\n",
              "      border: none;\n",
              "      border-radius: 50%;\n",
              "      cursor: pointer;\n",
              "      display: none;\n",
              "      fill: #1967D2;\n",
              "      height: 32px;\n",
              "      padding: 0 0 0 0;\n",
              "      width: 32px;\n",
              "    }\n",
              "\n",
              "    .colab-df-convert:hover {\n",
              "      background-color: #E2EBFA;\n",
              "      box-shadow: 0px 1px 2px rgba(60, 64, 67, 0.3), 0px 1px 3px 1px rgba(60, 64, 67, 0.15);\n",
              "      fill: #174EA6;\n",
              "    }\n",
              "\n",
              "    .colab-df-buttons div {\n",
              "      margin-bottom: 4px;\n",
              "    }\n",
              "\n",
              "    [theme=dark] .colab-df-convert {\n",
              "      background-color: #3B4455;\n",
              "      fill: #D2E3FC;\n",
              "    }\n",
              "\n",
              "    [theme=dark] .colab-df-convert:hover {\n",
              "      background-color: #434B5C;\n",
              "      box-shadow: 0px 1px 3px 1px rgba(0, 0, 0, 0.15);\n",
              "      filter: drop-shadow(0px 1px 2px rgba(0, 0, 0, 0.3));\n",
              "      fill: #FFFFFF;\n",
              "    }\n",
              "  </style>\n",
              "\n",
              "    <script>\n",
              "      const buttonEl =\n",
              "        document.querySelector('#df-1e93f9d2-1182-48c5-b335-217ae05acd8a button.colab-df-convert');\n",
              "      buttonEl.style.display =\n",
              "        google.colab.kernel.accessAllowed ? 'block' : 'none';\n",
              "\n",
              "      async function convertToInteractive(key) {\n",
              "        const element = document.querySelector('#df-1e93f9d2-1182-48c5-b335-217ae05acd8a');\n",
              "        const dataTable =\n",
              "          await google.colab.kernel.invokeFunction('convertToInteractive',\n",
              "                                                    [key], {});\n",
              "        if (!dataTable) return;\n",
              "\n",
              "        const docLinkHtml = 'Like what you see? Visit the ' +\n",
              "          '<a target=\"_blank\" href=https://colab.research.google.com/notebooks/data_table.ipynb>data table notebook</a>'\n",
              "          + ' to learn more about interactive tables.';\n",
              "        element.innerHTML = '';\n",
              "        dataTable['output_type'] = 'display_data';\n",
              "        await google.colab.output.renderOutput(dataTable, element);\n",
              "        const docLink = document.createElement('div');\n",
              "        docLink.innerHTML = docLinkHtml;\n",
              "        element.appendChild(docLink);\n",
              "      }\n",
              "    </script>\n",
              "  </div>\n",
              "\n",
              "\n",
              "<div id=\"df-e1d6b807-c313-4de6-9e80-cf738a2c3aad\">\n",
              "  <button class=\"colab-df-quickchart\" onclick=\"quickchart('df-e1d6b807-c313-4de6-9e80-cf738a2c3aad')\"\n",
              "            title=\"Suggest charts\"\n",
              "            style=\"display:none;\">\n",
              "\n",
              "<svg xmlns=\"http://www.w3.org/2000/svg\" height=\"24px\"viewBox=\"0 0 24 24\"\n",
              "     width=\"24px\">\n",
              "    <g>\n",
              "        <path d=\"M19 3H5c-1.1 0-2 .9-2 2v14c0 1.1.9 2 2 2h14c1.1 0 2-.9 2-2V5c0-1.1-.9-2-2-2zM9 17H7v-7h2v7zm4 0h-2V7h2v10zm4 0h-2v-4h2v4z\"/>\n",
              "    </g>\n",
              "</svg>\n",
              "  </button>\n",
              "\n",
              "<style>\n",
              "  .colab-df-quickchart {\n",
              "      --bg-color: #E8F0FE;\n",
              "      --fill-color: #1967D2;\n",
              "      --hover-bg-color: #E2EBFA;\n",
              "      --hover-fill-color: #174EA6;\n",
              "      --disabled-fill-color: #AAA;\n",
              "      --disabled-bg-color: #DDD;\n",
              "  }\n",
              "\n",
              "  [theme=dark] .colab-df-quickchart {\n",
              "      --bg-color: #3B4455;\n",
              "      --fill-color: #D2E3FC;\n",
              "      --hover-bg-color: #434B5C;\n",
              "      --hover-fill-color: #FFFFFF;\n",
              "      --disabled-bg-color: #3B4455;\n",
              "      --disabled-fill-color: #666;\n",
              "  }\n",
              "\n",
              "  .colab-df-quickchart {\n",
              "    background-color: var(--bg-color);\n",
              "    border: none;\n",
              "    border-radius: 50%;\n",
              "    cursor: pointer;\n",
              "    display: none;\n",
              "    fill: var(--fill-color);\n",
              "    height: 32px;\n",
              "    padding: 0;\n",
              "    width: 32px;\n",
              "  }\n",
              "\n",
              "  .colab-df-quickchart:hover {\n",
              "    background-color: var(--hover-bg-color);\n",
              "    box-shadow: 0 1px 2px rgba(60, 64, 67, 0.3), 0 1px 3px 1px rgba(60, 64, 67, 0.15);\n",
              "    fill: var(--button-hover-fill-color);\n",
              "  }\n",
              "\n",
              "  .colab-df-quickchart-complete:disabled,\n",
              "  .colab-df-quickchart-complete:disabled:hover {\n",
              "    background-color: var(--disabled-bg-color);\n",
              "    fill: var(--disabled-fill-color);\n",
              "    box-shadow: none;\n",
              "  }\n",
              "\n",
              "  .colab-df-spinner {\n",
              "    border: 2px solid var(--fill-color);\n",
              "    border-color: transparent;\n",
              "    border-bottom-color: var(--fill-color);\n",
              "    animation:\n",
              "      spin 1s steps(1) infinite;\n",
              "  }\n",
              "\n",
              "  @keyframes spin {\n",
              "    0% {\n",
              "      border-color: transparent;\n",
              "      border-bottom-color: var(--fill-color);\n",
              "      border-left-color: var(--fill-color);\n",
              "    }\n",
              "    20% {\n",
              "      border-color: transparent;\n",
              "      border-left-color: var(--fill-color);\n",
              "      border-top-color: var(--fill-color);\n",
              "    }\n",
              "    30% {\n",
              "      border-color: transparent;\n",
              "      border-left-color: var(--fill-color);\n",
              "      border-top-color: var(--fill-color);\n",
              "      border-right-color: var(--fill-color);\n",
              "    }\n",
              "    40% {\n",
              "      border-color: transparent;\n",
              "      border-right-color: var(--fill-color);\n",
              "      border-top-color: var(--fill-color);\n",
              "    }\n",
              "    60% {\n",
              "      border-color: transparent;\n",
              "      border-right-color: var(--fill-color);\n",
              "    }\n",
              "    80% {\n",
              "      border-color: transparent;\n",
              "      border-right-color: var(--fill-color);\n",
              "      border-bottom-color: var(--fill-color);\n",
              "    }\n",
              "    90% {\n",
              "      border-color: transparent;\n",
              "      border-bottom-color: var(--fill-color);\n",
              "    }\n",
              "  }\n",
              "</style>\n",
              "\n",
              "  <script>\n",
              "    async function quickchart(key) {\n",
              "      const quickchartButtonEl =\n",
              "        document.querySelector('#' + key + ' button');\n",
              "      quickchartButtonEl.disabled = true;  // To prevent multiple clicks.\n",
              "      quickchartButtonEl.classList.add('colab-df-spinner');\n",
              "      try {\n",
              "        const charts = await google.colab.kernel.invokeFunction(\n",
              "            'suggestCharts', [key], {});\n",
              "      } catch (error) {\n",
              "        console.error('Error during call to suggestCharts:', error);\n",
              "      }\n",
              "      quickchartButtonEl.classList.remove('colab-df-spinner');\n",
              "      quickchartButtonEl.classList.add('colab-df-quickchart-complete');\n",
              "    }\n",
              "    (() => {\n",
              "      let quickchartButtonEl =\n",
              "        document.querySelector('#df-e1d6b807-c313-4de6-9e80-cf738a2c3aad button');\n",
              "      quickchartButtonEl.style.display =\n",
              "        google.colab.kernel.accessAllowed ? 'block' : 'none';\n",
              "    })();\n",
              "  </script>\n",
              "</div>\n",
              "\n",
              "    </div>\n",
              "  </div>\n"
            ],
            "application/vnd.google.colaboratory.intrinsic+json": {
              "type": "dataframe",
              "variable_name": "df",
              "summary": "{\n  \"name\": \"df\",\n  \"rows\": 712,\n  \"fields\": [\n    {\n      \"column\": \"Survived\",\n      \"properties\": {\n        \"dtype\": \"number\",\n        \"std\": 0,\n        \"min\": 0,\n        \"max\": 1,\n        \"num_unique_values\": 2,\n        \"samples\": [\n          1,\n          0\n        ],\n        \"semantic_type\": \"\",\n        \"description\": \"\"\n      }\n    },\n    {\n      \"column\": \"Pclass\",\n      \"properties\": {\n        \"dtype\": \"number\",\n        \"std\": 0,\n        \"min\": 1,\n        \"max\": 3,\n        \"num_unique_values\": 3,\n        \"samples\": [\n          3,\n          1\n        ],\n        \"semantic_type\": \"\",\n        \"description\": \"\"\n      }\n    },\n    {\n      \"column\": \"Sex\",\n      \"properties\": {\n        \"dtype\": \"number\",\n        \"std\": 0,\n        \"min\": 0,\n        \"max\": 1,\n        \"num_unique_values\": 2,\n        \"samples\": [\n          1,\n          0\n        ],\n        \"semantic_type\": \"\",\n        \"description\": \"\"\n      }\n    },\n    {\n      \"column\": \"Age\",\n      \"properties\": {\n        \"dtype\": \"number\",\n        \"std\": 14.49293290032352,\n        \"min\": 0.42,\n        \"max\": 80.0,\n        \"num_unique_values\": 88,\n        \"samples\": [\n          0.75,\n          22.0\n        ],\n        \"semantic_type\": \"\",\n        \"description\": \"\"\n      }\n    },\n    {\n      \"column\": \"SibSp\",\n      \"properties\": {\n        \"dtype\": \"number\",\n        \"std\": 0,\n        \"min\": 0,\n        \"max\": 5,\n        \"num_unique_values\": 6,\n        \"samples\": [\n          1,\n          0\n        ],\n        \"semantic_type\": \"\",\n        \"description\": \"\"\n      }\n    },\n    {\n      \"column\": \"Parch\",\n      \"properties\": {\n        \"dtype\": \"number\",\n        \"std\": 0,\n        \"min\": 0,\n        \"max\": 6,\n        \"num_unique_values\": 7,\n        \"samples\": [\n          0,\n          1\n        ],\n        \"semantic_type\": \"\",\n        \"description\": \"\"\n      }\n    },\n    {\n      \"column\": \"Fare\",\n      \"properties\": {\n        \"dtype\": \"number\",\n        \"std\": 52.93864817471089,\n        \"min\": 0.0,\n        \"max\": 512.3292,\n        \"num_unique_values\": 219,\n        \"samples\": [\n          7.875,\n          146.5208\n        ],\n        \"semantic_type\": \"\",\n        \"description\": \"\"\n      }\n    },\n    {\n      \"column\": \"Embarked\",\n      \"properties\": {\n        \"dtype\": \"number\",\n        \"std\": 0,\n        \"min\": 0,\n        \"max\": 2,\n        \"num_unique_values\": 3,\n        \"samples\": [\n          0,\n          1\n        ],\n        \"semantic_type\": \"\",\n        \"description\": \"\"\n      }\n    }\n  ]\n}"
            }
          },
          "metadata": {},
          "execution_count": 15
        }
      ]
    },
    {
      "cell_type": "markdown",
      "source": [
        "**Neural network using back-propagation**"
      ],
      "metadata": {
        "id": "xr-quiPerTGy"
      }
    },
    {
      "cell_type": "code",
      "source": [
        "import time\n",
        "import tensorflow as tf\n",
        "from tensorflow import keras\n",
        "\n"
      ],
      "metadata": {
        "id": "v5dlJ_EbqHgI"
      },
      "execution_count": null,
      "outputs": []
    },
    {
      "source": [
        "x_train, x_test, y_train, y_test = train_test_split(df.drop('Survived',axis=1), df['Survived'], test_size=0.20, random_state=42)\n"
      ],
      "cell_type": "code",
      "metadata": {
        "id": "pwZlfKMqs5xY"
      },
      "execution_count": null,
      "outputs": []
    },
    {
      "source": [
        "model = keras.Sequential([\n",
        "     keras.layers.Dense(32,input_dim = 7,activation = 'relu'),\n",
        "    # keras.layers.Dense(16, activation = 'relu' ),\n",
        "     #keras.layers.Dense(8, activation = 'relu' ),\n",
        "     keras.layers.Dense(1, activation = 'sigmoid' )\n",
        "     ])\n",
        "model.summary()"
      ],
      "cell_type": "code",
      "metadata": {
        "colab": {
          "base_uri": "https://localhost:8080/"
        },
        "id": "P_FLw6o-skFg",
        "outputId": "dc5bb48b-5398-4214-faf7-fe5b7e9e9cd4"
      },
      "execution_count": null,
      "outputs": [
        {
          "output_type": "stream",
          "name": "stdout",
          "text": [
            "Model: \"sequential_99\"\n",
            "_________________________________________________________________\n",
            " Layer (type)                Output Shape              Param #   \n",
            "=================================================================\n",
            " dense_4 (Dense)             (None, 32)                256       \n",
            "                                                                 \n",
            " dense_5 (Dense)             (None, 1)                 33        \n",
            "                                                                 \n",
            "=================================================================\n",
            "Total params: 289 (1.13 KB)\n",
            "Trainable params: 289 (1.13 KB)\n",
            "Non-trainable params: 0 (0.00 Byte)\n",
            "_________________________________________________________________\n"
          ]
        }
      ]
    },
    {
      "source": [
        "model.compile(loss = 'binary_crossentropy', optimizer= 'rmsprop',  metrics=['accuracy'])\n",
        "history = model.fit(x_train,  y_train,epochs = 30, batch_size = 8, validation_split=0.1)"
      ],
      "cell_type": "code",
      "metadata": {
        "colab": {
          "base_uri": "https://localhost:8080/"
        },
        "id": "QlArlY0Ws731",
        "outputId": "96e4628e-5998-4744-9273-7b5f0b962617"
      },
      "execution_count": null,
      "outputs": [
        {
          "output_type": "stream",
          "name": "stdout",
          "text": [
            "Epoch 1/30\n",
            "64/64 [==============================] - 1s 5ms/step - loss: 1.2240 - accuracy: 0.4473 - val_loss: 0.5775 - val_accuracy: 0.6667\n",
            "Epoch 2/30\n",
            "64/64 [==============================] - 0s 2ms/step - loss: 0.6965 - accuracy: 0.6680 - val_loss: 0.6215 - val_accuracy: 0.6842\n",
            "Epoch 3/30\n",
            "64/64 [==============================] - 0s 2ms/step - loss: 0.6316 - accuracy: 0.6836 - val_loss: 0.5332 - val_accuracy: 0.7895\n",
            "Epoch 4/30\n",
            "64/64 [==============================] - 0s 2ms/step - loss: 0.6072 - accuracy: 0.6895 - val_loss: 0.5132 - val_accuracy: 0.8596\n",
            "Epoch 5/30\n",
            "64/64 [==============================] - 0s 3ms/step - loss: 0.5824 - accuracy: 0.7070 - val_loss: 0.6279 - val_accuracy: 0.6316\n",
            "Epoch 6/30\n",
            "64/64 [==============================] - 0s 2ms/step - loss: 0.5694 - accuracy: 0.7031 - val_loss: 0.4852 - val_accuracy: 0.8947\n",
            "Epoch 7/30\n",
            "64/64 [==============================] - 0s 2ms/step - loss: 0.5550 - accuracy: 0.7207 - val_loss: 0.5399 - val_accuracy: 0.7895\n",
            "Epoch 8/30\n",
            "64/64 [==============================] - 0s 2ms/step - loss: 0.5408 - accuracy: 0.7324 - val_loss: 0.5085 - val_accuracy: 0.8070\n",
            "Epoch 9/30\n",
            "64/64 [==============================] - 0s 2ms/step - loss: 0.5251 - accuracy: 0.7461 - val_loss: 0.4960 - val_accuracy: 0.8070\n",
            "Epoch 10/30\n",
            "64/64 [==============================] - 0s 2ms/step - loss: 0.5216 - accuracy: 0.7461 - val_loss: 0.4881 - val_accuracy: 0.7719\n",
            "Epoch 11/30\n",
            "64/64 [==============================] - 0s 2ms/step - loss: 0.5101 - accuracy: 0.7559 - val_loss: 0.4557 - val_accuracy: 0.8070\n",
            "Epoch 12/30\n",
            "64/64 [==============================] - 0s 2ms/step - loss: 0.5035 - accuracy: 0.7793 - val_loss: 0.4994 - val_accuracy: 0.7895\n",
            "Epoch 13/30\n",
            "64/64 [==============================] - 0s 2ms/step - loss: 0.4981 - accuracy: 0.7715 - val_loss: 0.4720 - val_accuracy: 0.7719\n",
            "Epoch 14/30\n",
            "64/64 [==============================] - 0s 2ms/step - loss: 0.4891 - accuracy: 0.7695 - val_loss: 0.4832 - val_accuracy: 0.8246\n",
            "Epoch 15/30\n",
            "64/64 [==============================] - 0s 2ms/step - loss: 0.4833 - accuracy: 0.7852 - val_loss: 0.5329 - val_accuracy: 0.7544\n",
            "Epoch 16/30\n",
            "64/64 [==============================] - 0s 2ms/step - loss: 0.4800 - accuracy: 0.7930 - val_loss: 0.4959 - val_accuracy: 0.7368\n",
            "Epoch 17/30\n",
            "64/64 [==============================] - 0s 2ms/step - loss: 0.4809 - accuracy: 0.7754 - val_loss: 0.6574 - val_accuracy: 0.6667\n",
            "Epoch 18/30\n",
            "64/64 [==============================] - 0s 2ms/step - loss: 0.4745 - accuracy: 0.7949 - val_loss: 0.5421 - val_accuracy: 0.7544\n",
            "Epoch 19/30\n",
            "64/64 [==============================] - 0s 2ms/step - loss: 0.4673 - accuracy: 0.7891 - val_loss: 0.4781 - val_accuracy: 0.7719\n",
            "Epoch 20/30\n",
            "64/64 [==============================] - 0s 2ms/step - loss: 0.4703 - accuracy: 0.7832 - val_loss: 0.4447 - val_accuracy: 0.8596\n",
            "Epoch 21/30\n",
            "64/64 [==============================] - 0s 2ms/step - loss: 0.4648 - accuracy: 0.7910 - val_loss: 0.4711 - val_accuracy: 0.7544\n",
            "Epoch 22/30\n",
            "64/64 [==============================] - 0s 2ms/step - loss: 0.4541 - accuracy: 0.7812 - val_loss: 0.4308 - val_accuracy: 0.7719\n",
            "Epoch 23/30\n",
            "64/64 [==============================] - 0s 2ms/step - loss: 0.4633 - accuracy: 0.7871 - val_loss: 0.4692 - val_accuracy: 0.7368\n",
            "Epoch 24/30\n",
            "64/64 [==============================] - 0s 2ms/step - loss: 0.4596 - accuracy: 0.7930 - val_loss: 0.4597 - val_accuracy: 0.7895\n",
            "Epoch 25/30\n",
            "64/64 [==============================] - 0s 2ms/step - loss: 0.4533 - accuracy: 0.7832 - val_loss: 0.5266 - val_accuracy: 0.7368\n",
            "Epoch 26/30\n",
            "64/64 [==============================] - 0s 2ms/step - loss: 0.4524 - accuracy: 0.7832 - val_loss: 0.4458 - val_accuracy: 0.8246\n",
            "Epoch 27/30\n",
            "64/64 [==============================] - 0s 2ms/step - loss: 0.4550 - accuracy: 0.7852 - val_loss: 0.6206 - val_accuracy: 0.7193\n",
            "Epoch 28/30\n",
            "64/64 [==============================] - 0s 2ms/step - loss: 0.4328 - accuracy: 0.8066 - val_loss: 0.4389 - val_accuracy: 0.7719\n",
            "Epoch 29/30\n",
            "64/64 [==============================] - 0s 2ms/step - loss: 0.4593 - accuracy: 0.7871 - val_loss: 0.4791 - val_accuracy: 0.7544\n",
            "Epoch 30/30\n",
            "64/64 [==============================] - 0s 2ms/step - loss: 0.4460 - accuracy: 0.7871 - val_loss: 0.4712 - val_accuracy: 0.7719\n"
          ]
        }
      ]
    },
    {
      "source": [
        "plt.plot(history.history['accuracy'])\n",
        "plt.plot(history.history['val_accuracy'])\n",
        "plt.title('Model accuracy')\n",
        "plt.ylabel('Accuracy')\n",
        "plt.xlabel('Epoch')\n",
        "plt.legend(['Train', 'Validation'], loc='upper left')\n",
        "plt.show()"
      ],
      "cell_type": "code",
      "metadata": {
        "colab": {
          "base_uri": "https://localhost:8080/",
          "height": 472
        },
        "id": "XOqW7gxps0_e",
        "outputId": "83bc1b5b-bb46-47d4-cfa2-2e7ecdb2cfef"
      },
      "execution_count": null,
      "outputs": [
        {
          "output_type": "display_data",
          "data": {
            "text/plain": [
              "<Figure size 640x480 with 1 Axes>"
            ],
            "image/png": "[encoded data removed]"
          },
          "metadata": {}
        }
      ]
    },
    {
      "cell_type": "code",
      "source": [
        "plt.plot(history.history['loss'])\n",
        "plt.plot(history.history['val_loss'])\n",
        "plt.title('Model Loss Plot')\n",
        "plt.ylabel('Loss')\n",
        "plt.xlabel('Epoch')\n",
        "plt.legend(['Train', 'Validation'], loc='upper left')\n",
        "plt.show()"
      ],
      "metadata": {
        "id": "YSEstUhurzZy",
        "colab": {
          "base_uri": "https://localhost:8080/",
          "height": 472
        },
        "outputId": "b5359cbd-b2ce-416c-e15a-bb9ea356e151"
      },
      "execution_count": null,
      "outputs": [
        {
          "output_type": "display_data",
          "data": {
            "text/plain": [
              "<Figure size 640x480 with 1 Axes>"
            ],
            "image/png": "[encoded data removed]"
          },
          "metadata": {}
        }
      ]
    },
    {
      "cell_type": "code",
      "source": [
        "evl_val = model.evaluate(x_test,y_test)"
      ],
      "metadata": {
        "colab": {
          "base_uri": "https://localhost:8080/"
        },
        "id": "t4RRYJmCXJyU",
        "outputId": "f9b21be3-24fa-4ae8-99ca-bc2ac0e2225a"
      },
      "execution_count": null,
      "outputs": [
        {
          "output_type": "stream",
          "name": "stdout",
          "text": [
            "5/5 [==============================] - 0s 4ms/step - loss: 0.4967 - accuracy: 0.7762\n"
          ]
        }
      ]
    },
    {
      "cell_type": "code",
      "source": [
        "print('The model has %f accuracy on the test data' % (evl_val[1] * 100))"
      ],
      "metadata": {
        "colab": {
          "base_uri": "https://localhost:8080/"
        },
        "id": "HXkv7RKeXVu3",
        "outputId": "4cf01b36-61e1-4bfc-abb4-d4ba0a6ee65f"
      },
      "execution_count": null,
      "outputs": [
        {
          "output_type": "stream",
          "name": "stdout",
          "text": [
            "The model has 77.622378 accuracy on the test data\n"
          ]
        }
      ]
    },
    {
      "cell_type": "code",
      "source": [
        "\n",
        "y_pred = model.predict(x_test)"
      ],
      "metadata": {
        "colab": {
          "base_uri": "https://localhost:8080/"
        },
        "id": "zX0ZUxxhXiu_",
        "outputId": "b447de2b-c1df-4d5b-862d-427bb6bf0f47"
      },
      "execution_count": null,
      "outputs": [
        {
          "output_type": "stream",
          "name": "stdout",
          "text": [
            "5/5 [==============================] - 0s 2ms/step\n"
          ]
        }
      ]
    },
    {
      "cell_type": "code",
      "source": [
        " #create a confusion matrix  using sns\n",
        "\n",
        "import matplotlib.pyplot as plt\n",
        "import seaborn as sns\n",
        "cm = confusion_matrix(y_test, y_pred.round())\n",
        "plt.figure(figsize=(10,7))\n",
        "sns.heatmap(cm, annot=True, fmt='d', cmap='Blues')\n",
        "plt.xlabel('Predicted')\n",
        "plt.ylabel('Truth')\n",
        "plt.show()\n"
      ],
      "metadata": {
        "colab": {
          "base_uri": "https://localhost:8080/",
          "height": 619
        },
        "id": "asPl6uqqXtr8",
        "outputId": "0717127b-8d34-4c07-b445-c673feeaec18"
      },
      "execution_count": null,
      "outputs": [
        {
          "output_type": "display_data",
          "data": {
            "text/plain": [
              "<Figure size 1000x700 with 2 Axes>"
            ],
            "image/png": "[encoded data removed]"
          },
          "metadata": {}
        }
      ]
    },
    {
      "cell_type": "markdown",
      "source": [
        "**Genatic Algorithem implementation to get an optimal soluation**"
      ],
      "metadata": {
        "id": "Wq_GakdIYeny"
      }
    },
    {
      "cell_type": "code",
      "source": [
        "from random import randint, random\n",
        "import functools\n",
        "from operator import add\n",
        "import numpy as np\n",
        "\n",
        "\n",
        "np.random.seed(0)"
      ],
      "metadata": {
        "id": "cZzxtIX7YIN9"
      },
      "execution_count": null,
      "outputs": []
    },
    {
      "cell_type": "code",
      "source": [
        "def create_weights(m,n):\n",
        "  return np.random.uniform(-1,1,(m,n))\n",
        "\n",
        "\n"
      ],
      "metadata": {
        "id": "wUw-UUcMY8Qy"
      },
      "execution_count": null,
      "outputs": []
    },
    {
      "cell_type": "code",
      "source": [
        "def createBiases(n):\n",
        "  return np.random.uniform(-1,1,n)"
      ],
      "metadata": {
        "id": "ewlCMrSQe9pG"
      },
      "execution_count": null,
      "outputs": []
    },
    {
      "cell_type": "code",
      "source": [
        "def individual():\n",
        "  'create a neural network model which is the member of the population'\n",
        "  model = keras.Sequential([\n",
        "     keras.layers.Dense(32,input_dim = 7,activation = 'relu',name = 'layer_1'),\n",
        "     keras.layers.Dense(1, activation = 'sigmoid', name = 'layer_2' )\n",
        "     ])\n",
        "  model.compile(loss = 'binary_crossentropy', optimizer= 'rmsprop',  metrics=['accuracy'])\n",
        "  #history = model.fit(x_train,  y_train,epochs = 30, batch_size = 8, validation_split=0.1)\n",
        "  model.get_layer('layer_1').set_weights([create_weights(7,32), createBiases(32)])\n",
        "  model.get_layer('layer_2').set_weights([create_weights(32,1), createBiases(1)])\n",
        "  return model\n",
        "\n"
      ],
      "metadata": {
        "id": "GTMMnkHCfOEt"
      },
      "execution_count": null,
      "outputs": []
    },
    {
      "cell_type": "code",
      "source": [
        "def getChildWeights(father, mother, layer):\n",
        "    'Create a mix of weights from both parents'\n",
        "    fatherWeights = father.get_layer(layer).get_weights()[0]\n",
        "    motherWeights = mother.get_layer(layer).get_weights()[0]\n",
        "\n",
        "    childWeights = np.zeros(fatherWeights.shape)\n",
        "    # Randomizing only the row values\n",
        "    indexStatus = np.random.randint(2, size=(fatherWeights.shape[0],))\n",
        "\n",
        "    for index in range(fatherWeights.shape[0]):\n",
        "        if indexStatus[index] == 0:\n",
        "            childWeights[index] = fatherWeights[index]\n",
        "        else:\n",
        "            childWeights[index] = motherWeights[index]\n",
        "\n",
        "    return childWeights\n",
        "\n",
        "def getChildBias(father, mother, layer):\n",
        "    'Create a mix of biases from both parents'\n",
        "    father_bias = father.get_layer(layer).get_weights()[1]\n",
        "    mother_bias = mother.get_layer(layer).get_weights()[1]\n",
        "\n",
        "    child_bias = np.zeros(father_bias.shape)\n",
        "    # Randomizing only the row values\n",
        "    indexStatus = np.random.randint(2, size=(father_bias.shape[0],))\n",
        "\n",
        "    for index in range(father_bias.shape[0]):\n",
        "        if indexStatus[index] == 0:\n",
        "            child_bias[index] = father_bias[index]\n",
        "        else:\n",
        "            child_bias[index] = mother_bias[index]\n",
        "\n",
        "    return child_bias"
      ],
      "metadata": {
        "id": "wBJ9DE1CfKpR"
      },
      "execution_count": null,
      "outputs": []
    },
    {
      "cell_type": "code",
      "source": [
        "def child(father, mother):\n",
        "    'Create a new neural network model child which is the member of the population.'\n",
        "    model = Sequential()\n",
        "    model.add(Dense(32, input_dim=7, activation='sigmoid', name='layer_1'))\n",
        "    model.add(Dropout(0.1))\n",
        "    model.add(Dense(1, activation='sigmoid', name='layer_2'))\n",
        "    #model.summary()\n",
        "\n",
        "    model.compile(loss='binary_crossentropy', optimizer='rmsprop', metrics=['accuracy'])\n",
        "\n",
        "    # Cross Breed the weights and biases\n",
        "    model.get_layer('layer_1').set_weights([getChildWeights(father, mother, 'layer_1'), getChildBias(father, mother, 'layer_1')])\n",
        "    model.get_layer('layer_2').set_weights([getChildWeights(father, mother, 'layer_2'), getChildBias(father, mother, 'layer_2')])\n",
        "\n",
        "    return model"
      ],
      "metadata": {
        "id": "btJZXs6ShiXs"
      },
      "execution_count": null,
      "outputs": []
    },
    {
      "cell_type": "code",
      "source": [
        "def mutateWeights(individual, layer):\n",
        "    'Randomly mutate the weights of an individual'\n",
        "    individualWeights = individual.get_layer(layer).get_weights()[0]\n",
        "    randomWeights = createWeights(individualWeights.shape[0], individualWeights.shape[1])\n",
        "\n",
        "    mutateWeights = np.zeros(individualWeights.shape)\n",
        "    indexStatus = np.random.randint(2, size=(individualWeights.shape[0],))\n",
        "\n",
        "    for index in range(individualWeights.shape[0]):\n",
        "        if indexStatus[index] == 0:\n",
        "            mutateWeights[index] = individualWeights[index]\n",
        "        else:\n",
        "            mutateWeights[index] = randomWeights[index]\n",
        "\n",
        "    return mutateWeights\n",
        "\n",
        "def mutatedBias(individual, layer):\n",
        "    'Randomly mutate the biases of an individual'\n",
        "    individual_bias = individual.get_layer(layer).get_weights()[1]\n",
        "    random_bias = createBiases(individual_bias.shape[0])\n",
        "\n",
        "    mutated_bias = np.zeros(individual_bias.shape)\n",
        "    indexStatus = np.random.randint(2, size=(individual_bias.shape[0],))\n",
        "\n",
        "    for index in range(individual_bias.shape[0]):\n",
        "        if indexStatus[index] == 0:\n",
        "            mutated_bias[index] = individual_bias[index]\n",
        "        else:\n",
        "            mutated_bias[index] = random_bias[index]\n",
        "\n",
        "    return mutated_bias\n"
      ],
      "metadata": {
        "id": "5WYPpMvnhmOR"
      },
      "execution_count": null,
      "outputs": []
    },
    {
      "cell_type": "code",
      "source": [
        "\n",
        "def population(count):\n",
        "    'count: the number of individuals in the population'\n",
        "    return [ individual() for ind in range(count) ]"
      ],
      "metadata": {
        "id": "dynJkKMFho9U"
      },
      "execution_count": null,
      "outputs": []
    },
    {
      "cell_type": "code",
      "source": [
        "def fitness(individual, x, y):\n",
        "    'Determine the fitness of an individual. Higher is better.'\n",
        "    return individual.evaluate(x, y)[1]"
      ],
      "metadata": {
        "id": "fBKWo2nxht2z"
      },
      "execution_count": null,
      "outputs": []
    },
    {
      "cell_type": "code",
      "source": [
        "def grade(pop, x, y):\n",
        "    'Find average fitness for a population.'\n",
        "    summed = functools.reduce(add, (fitness(ind, x, y) for ind in pop))\n",
        "    return summed / (len(pop) * 1.0)"
      ],
      "metadata": {
        "id": "MWQwfcwqhxpj"
      },
      "execution_count": null,
      "outputs": []
    },
    {
      "cell_type": "markdown",
      "source": [
        "The evolve function uses the above functions to generates a new population with the retain, random selection and mutation criterias."
      ],
      "metadata": {
        "id": "Y7OcujnHh2jZ"
      }
    },
    {
      "cell_type": "code",
      "source": [
        "def evolve(pop, dataset_x, dataset_y, retain=0.2, random_select=0.05, mutate=0.01):\n",
        "    graded = [ (fitness(ind, dataset_x, dataset_y), ind) for ind in pop]\n",
        "    graded = [ x[1] for x in sorted(graded, key=lambda tup: tup[0])]\n",
        "\n",
        "    # number of individuals to retain\n",
        "    retain_length = int(len(graded)*retain)\n",
        "    parents = graded[-retain_length:]\n",
        "\n",
        "    # randomly pick individuals to retain\n",
        "    for individual in graded[:len(graded)-retain_length:]:\n",
        "        if random_select > random():\n",
        "            parents.append(individual)\n",
        "\n",
        "    # mutate some individuals\n",
        "    for individual in parents:\n",
        "        if mutate > random():\n",
        "            individual.get_layer('layer_1').set_weights([mutateWeights(individual, 'layer_1'), mutatedBias(individual, 'layer_1')])\n",
        "            individual.get_layer('layer_2').set_weights([mutateWeights(individual, 'layer_2'), mutatedBias(individual, 'layer_2')])\n",
        "\n",
        "    # Cross bread parents to create children with the count of the initial population size\n",
        "    parents_length = len(parents)\n",
        "    desired_length = len(pop) - parents_length\n",
        "    children = []\n",
        "    while len(children) < desired_length:\n",
        "        father = randint(0, parents_length-1)\n",
        "        mother = randint(0, parents_length-1)\n",
        "        if father != mother:\n",
        "            father = parents[father]\n",
        "            mother = parents[mother]\n",
        "            children.append(child(father, mother))\n",
        "    parents.extend(children)\n",
        "\n",
        "    return parents"
      ],
      "metadata": {
        "id": "-uakug4YhzpC"
      },
      "execution_count": null,
      "outputs": []
    },
    {
      "cell_type": "markdown",
      "source": [
        "Create the initial population and calculate the average fitness of the population"
      ],
      "metadata": {
        "id": "9phqKNFoh9MP"
      }
    },
    {
      "cell_type": "code",
      "source": [
        "p_count = 10\n",
        "pop = population(p_count)\n",
        "average_fitness_history = [grade(pop, x_train, y_train),]"
      ],
      "metadata": {
        "colab": {
          "base_uri": "https://localhost:8080/"
        },
        "id": "oYVs506ph5k1",
        "outputId": "0306bd5a-41b0-4a16-e6c9-e53f48057ad3"
      },
      "execution_count": null,
      "outputs": [
        {
          "output_type": "stream",
          "name": "stdout",
          "text": [
            "18/18 [==============================] - 0s 2ms/step - loss: 5.4195 - accuracy: 0.5360\n",
            "18/18 [==============================] - 0s 2ms/step - loss: 41.8440 - accuracy: 0.3954\n",
            "18/18 [==============================] - 0s 2ms/step - loss: 37.5872 - accuracy: 0.3954\n",
            "18/18 [==============================] - 0s 2ms/step - loss: 32.2274 - accuracy: 0.6046\n",
            "18/18 [==============================] - 0s 2ms/step - loss: 63.8624 - accuracy: 0.6046\n",
            "18/18 [==============================] - 0s 2ms/step - loss: 20.9761 - accuracy: 0.4025\n",
            "18/18 [==============================] - 0s 2ms/step - loss: 25.8534 - accuracy: 0.6046\n",
            "18/18 [==============================] - 0s 2ms/step - loss: 13.5616 - accuracy: 0.3954\n",
            "18/18 [==============================] - 0s 2ms/step - loss: 9.7019 - accuracy: 0.3972\n",
            "18/18 [==============================] - 0s 2ms/step - loss: 9.4582 - accuracy: 0.6309\n"
          ]
        }
      ]
    },
    {
      "cell_type": "code",
      "source": [
        "\n",
        "from tensorflow.keras import Sequential\n",
        "from tensorflow.keras.layers import Dense, Dropout\n",
        "generationCount = 10\n",
        "for i in range(generationCount):\n",
        "    print('Started running the %d generation' % (i))\n",
        "    pop = evolve(pop, x_train, y_train)\n",
        "    fitness_val = grade(pop, x_train, y_train)\n",
        "    print('Completed running the %d generation with mean accuracy of: %f' % (i, fitness_val))\n",
        "    average_fitness_history.append(fitness_val)"
      ],
      "metadata": {
        "colab": {
          "base_uri": "https://localhost:8080/"
        },
        "id": "7FRdplt3h_9Q",
        "outputId": "31dc43b1-4395-4944-b52d-715f00dfd8f7"
      },
      "execution_count": null,
      "outputs": [
        {
          "output_type": "stream",
          "name": "stdout",
          "text": [
            "Started running the 0 generation\n",
            "18/18 [==============================] - 0s 2ms/step - loss: 5.4195 - accuracy: 0.5360\n",
            "18/18 [==============================] - 0s 2ms/step - loss: 41.8440 - accuracy: 0.3954\n",
            "18/18 [==============================] - 0s 2ms/step - loss: 37.5872 - accuracy: 0.3954\n",
            "18/18 [==============================] - 0s 2ms/step - loss: 32.2274 - accuracy: 0.6046\n",
            "18/18 [==============================] - 0s 2ms/step - loss: 63.8624 - accuracy: 0.6046\n",
            "18/18 [==============================] - 0s 2ms/step - loss: 20.9761 - accuracy: 0.4025\n",
            "18/18 [==============================] - 0s 2ms/step - loss: 25.8534 - accuracy: 0.6046\n",
            "18/18 [==============================] - 0s 2ms/step - loss: 13.5616 - accuracy: 0.3954\n",
            "18/18 [==============================] - 0s 2ms/step - loss: 9.7019 - accuracy: 0.3972\n",
            "18/18 [==============================] - 0s 2ms/step - loss: 9.4582 - accuracy: 0.6309\n",
            "18/18 [==============================] - 0s 2ms/step - loss: 25.8534 - accuracy: 0.6046\n",
            "18/18 [==============================] - 0s 2ms/step - loss: 9.4582 - accuracy: 0.6309\n",
            "18/18 [==============================] - 0s 2ms/step - loss: 1.1222 - accuracy: 0.6046\n",
            "18/18 [==============================] - 0s 2ms/step - loss: 0.6497 - accuracy: 0.6450\n",
            "18/18 [==============================] - 0s 2ms/step - loss: 1.0007 - accuracy: 0.6046\n",
            "18/18 [==============================] - 0s 2ms/step - loss: 0.7345 - accuracy: 0.6046\n",
            "18/18 [==============================] - 0s 2ms/step - loss: 1.0255 - accuracy: 0.3409\n",
            "18/18 [==============================] - 0s 2ms/step - loss: 1.1498 - accuracy: 0.6046\n",
            "18/18 [==============================] - 0s 2ms/step - loss: 0.7822 - accuracy: 0.6081\n",
            "18/18 [==============================] - 0s 2ms/step - loss: 0.6480 - accuracy: 0.7012\n",
            "Completed running the 0 generation with mean accuracy of: 0.594903\n",
            "Started running the 1 generation\n",
            "18/18 [==============================] - 0s 2ms/step - loss: 25.8534 - accuracy: 0.6046\n",
            "18/18 [==============================] - 0s 2ms/step - loss: 9.4582 - accuracy: 0.6309\n",
            "18/18 [==============================] - 0s 2ms/step - loss: 1.1222 - accuracy: 0.6046\n",
            "18/18 [==============================] - 0s 2ms/step - loss: 0.6497 - accuracy: 0.6450\n",
            "18/18 [==============================] - 0s 2ms/step - loss: 1.0007 - accuracy: 0.6046\n",
            "18/18 [==============================] - 0s 2ms/step - loss: 0.7345 - accuracy: 0.6046\n",
            "18/18 [==============================] - 0s 2ms/step - loss: 1.0255 - accuracy: 0.3409\n",
            "18/18 [==============================] - 0s 3ms/step - loss: 1.1498 - accuracy: 0.6046\n",
            "18/18 [==============================] - 0s 2ms/step - loss: 0.7822 - accuracy: 0.6081\n",
            "18/18 [==============================] - 0s 2ms/step - loss: 0.6480 - accuracy: 0.7012\n",
            "18/18 [==============================] - 0s 2ms/step - loss: 0.6497 - accuracy: 0.6450\n",
            "18/18 [==============================] - 0s 2ms/step - loss: 0.6480 - accuracy: 0.7012\n",
            "18/18 [==============================] - 0s 3ms/step - loss: 0.6330 - accuracy: 0.6872\n",
            "18/18 [==============================] - 0s 3ms/step - loss: 0.6440 - accuracy: 0.6626\n",
            "18/18 [==============================] - 0s 2ms/step - loss: 0.9816 - accuracy: 0.6046\n",
            "18/18 [==============================] - 0s 2ms/step - loss: 0.9536 - accuracy: 0.4042\n",
            "18/18 [==============================] - 1s 2ms/step - loss: 0.6812 - accuracy: 0.6573\n",
            "18/18 [==============================] - 0s 2ms/step - loss: 0.9069 - accuracy: 0.5958\n",
            "18/18 [==============================] - 0s 2ms/step - loss: 0.7504 - accuracy: 0.6591\n",
            "18/18 [==============================] - 0s 2ms/step - loss: 0.7176 - accuracy: 0.6503\n",
            "Completed running the 1 generation with mean accuracy of: 0.626714\n",
            "Started running the 2 generation\n",
            "18/18 [==============================] - 0s 2ms/step - loss: 0.6497 - accuracy: 0.6450\n",
            "18/18 [==============================] - 0s 2ms/step - loss: 0.6480 - accuracy: 0.7012\n",
            "18/18 [==============================] - 0s 2ms/step - loss: 0.6330 - accuracy: 0.6872\n",
            "18/18 [==============================] - 0s 2ms/step - loss: 0.6440 - accuracy: 0.6626\n",
            "18/18 [==============================] - 0s 2ms/step - loss: 0.9816 - accuracy: 0.6046\n",
            "18/18 [==============================] - 0s 2ms/step - loss: 0.9536 - accuracy: 0.4042\n",
            "18/18 [==============================] - 0s 2ms/step - loss: 0.6812 - accuracy: 0.6573\n",
            "18/18 [==============================] - 0s 2ms/step - loss: 0.9069 - accuracy: 0.5958\n",
            "18/18 [==============================] - 0s 2ms/step - loss: 0.7504 - accuracy: 0.6591\n",
            "18/18 [==============================] - 0s 2ms/step - loss: 0.7176 - accuracy: 0.6503\n",
            "18/18 [==============================] - 0s 2ms/step - loss: 0.6330 - accuracy: 0.6872\n",
            "18/18 [==============================] - 0s 2ms/step - loss: 0.6480 - accuracy: 0.7012\n",
            "18/18 [==============================] - 0s 2ms/step - loss: 0.6440 - accuracy: 0.6626\n",
            "18/18 [==============================] - 0s 2ms/step - loss: 0.6844 - accuracy: 0.6854\n",
            "18/18 [==============================] - 0s 2ms/step - loss: 0.7009 - accuracy: 0.6415\n",
            "18/18 [==============================] - 0s 2ms/step - loss: 0.7121 - accuracy: 0.6380\n",
            "18/18 [==============================] - 0s 2ms/step - loss: 0.6499 - accuracy: 0.6749\n",
            "18/18 [==============================] - 0s 2ms/step - loss: 0.6898 - accuracy: 0.6854\n",
            "18/18 [==============================] - 0s 2ms/step - loss: 0.6922 - accuracy: 0.6432\n",
            "18/18 [==============================] - 0s 2ms/step - loss: 0.6556 - accuracy: 0.6995\n",
            "Completed running the 2 generation with mean accuracy of: 0.671880\n",
            "Started running the 3 generation\n",
            "18/18 [==============================] - 0s 2ms/step - loss: 0.6330 - accuracy: 0.6872\n",
            "18/18 [==============================] - 0s 2ms/step - loss: 0.6480 - accuracy: 0.7012\n",
            "18/18 [==============================] - 0s 2ms/step - loss: 0.6440 - accuracy: 0.6626\n",
            "18/18 [==============================] - 0s 2ms/step - loss: 0.6844 - accuracy: 0.6854\n",
            "18/18 [==============================] - 0s 2ms/step - loss: 0.7009 - accuracy: 0.6415\n",
            "18/18 [==============================] - 0s 2ms/step - loss: 0.7121 - accuracy: 0.6380\n",
            "18/18 [==============================] - 0s 2ms/step - loss: 0.6499 - accuracy: 0.6749\n",
            "18/18 [==============================] - 0s 2ms/step - loss: 0.6898 - accuracy: 0.6854\n",
            "18/18 [==============================] - 0s 2ms/step - loss: 0.6922 - accuracy: 0.6432\n",
            "18/18 [==============================] - 0s 2ms/step - loss: 0.6556 - accuracy: 0.6995\n",
            "18/18 [==============================] - 0s 2ms/step - loss: 0.6556 - accuracy: 0.6995\n",
            "18/18 [==============================] - 0s 2ms/step - loss: 0.6480 - accuracy: 0.7012\n",
            "18/18 [==============================] - 0s 2ms/step - loss: 0.6585 - accuracy: 0.7012\n",
            "18/18 [==============================] - 0s 2ms/step - loss: 0.6579 - accuracy: 0.7012\n",
            "18/18 [==============================] - 0s 2ms/step - loss: 0.6548 - accuracy: 0.6995\n",
            "18/18 [==============================] - 0s 2ms/step - loss: 0.6484 - accuracy: 0.7012\n",
            "18/18 [==============================] - 0s 2ms/step - loss: 0.6459 - accuracy: 0.6995\n",
            "18/18 [==============================] - 0s 2ms/step - loss: 0.6497 - accuracy: 0.7012\n",
            "18/18 [==============================] - 0s 3ms/step - loss: 0.6601 - accuracy: 0.7012\n",
            "18/18 [==============================] - 0s 3ms/step - loss: 0.6496 - accuracy: 0.7012\n",
            "Completed running the 3 generation with mean accuracy of: 0.700703\n",
            "Started running the 4 generation\n",
            "18/18 [==============================] - 0s 3ms/step - loss: 0.6556 - accuracy: 0.6995\n",
            "18/18 [==============================] - 0s 2ms/step - loss: 0.6480 - accuracy: 0.7012\n",
            "18/18 [==============================] - 0s 2ms/step - loss: 0.6585 - accuracy: 0.7012\n",
            "18/18 [==============================] - 0s 3ms/step - loss: 0.6579 - accuracy: 0.7012\n",
            "18/18 [==============================] - 0s 3ms/step - loss: 0.6548 - accuracy: 0.6995\n",
            "18/18 [==============================] - 0s 2ms/step - loss: 0.6484 - accuracy: 0.7012\n",
            "18/18 [==============================] - 0s 3ms/step - loss: 0.6459 - accuracy: 0.6995\n",
            "18/18 [==============================] - 0s 2ms/step - loss: 0.6497 - accuracy: 0.7012\n",
            "18/18 [==============================] - 0s 2ms/step - loss: 0.6601 - accuracy: 0.7012\n",
            "18/18 [==============================] - 0s 2ms/step - loss: 0.6496 - accuracy: 0.7012\n",
            "18/18 [==============================] - 0s 2ms/step - loss: 0.6601 - accuracy: 0.7012\n",
            "18/18 [==============================] - 0s 2ms/step - loss: 0.6496 - accuracy: 0.7012\n",
            "18/18 [==============================] - 0s 2ms/step - loss: 0.6548 - accuracy: 0.6995\n",
            "18/18 [==============================] - 0s 2ms/step - loss: 0.6502 - accuracy: 0.7012\n",
            "18/18 [==============================] - 0s 2ms/step - loss: 0.6595 - accuracy: 0.7012\n",
            "18/18 [==============================] - 0s 2ms/step - loss: 0.6548 - accuracy: 0.6995\n",
            "18/18 [==============================] - 0s 2ms/step - loss: 0.6496 - accuracy: 0.7012\n",
            "18/18 [==============================] - 0s 2ms/step - loss: 0.6595 - accuracy: 0.7012\n",
            "18/18 [==============================] - 0s 2ms/step - loss: 0.6601 - accuracy: 0.7012\n",
            "18/18 [==============================] - 0s 2ms/step - loss: 0.6595 - accuracy: 0.7012\n",
            "Completed running the 4 generation with mean accuracy of: 0.700879\n",
            "Started running the 5 generation\n",
            "18/18 [==============================] - 0s 2ms/step - loss: 0.6601 - accuracy: 0.7012\n",
            "18/18 [==============================] - 0s 2ms/step - loss: 0.6496 - accuracy: 0.7012\n",
            "18/18 [==============================] - 0s 2ms/step - loss: 0.6548 - accuracy: 0.6995\n",
            "18/18 [==============================] - 0s 2ms/step - loss: 0.6502 - accuracy: 0.7012\n",
            "18/18 [==============================] - 0s 2ms/step - loss: 0.6595 - accuracy: 0.7012\n",
            "18/18 [==============================] - 0s 2ms/step - loss: 0.6548 - accuracy: 0.6995\n",
            "18/18 [==============================] - 0s 2ms/step - loss: 0.6496 - accuracy: 0.7012\n",
            "18/18 [==============================] - 0s 2ms/step - loss: 0.6595 - accuracy: 0.7012\n",
            "18/18 [==============================] - 0s 2ms/step - loss: 0.6601 - accuracy: 0.7012\n",
            "18/18 [==============================] - 0s 2ms/step - loss: 0.6595 - accuracy: 0.7012\n",
            "18/18 [==============================] - 0s 2ms/step - loss: 0.6601 - accuracy: 0.7012\n",
            "18/18 [==============================] - 0s 2ms/step - loss: 0.6595 - accuracy: 0.7012\n",
            "18/18 [==============================] - 0s 2ms/step - loss: 0.6601 - accuracy: 0.7012\n",
            "18/18 [==============================] - 0s 2ms/step - loss: 0.6595 - accuracy: 0.7012\n",
            "18/18 [==============================] - 0s 2ms/step - loss: 0.6595 - accuracy: 0.7012\n",
            "18/18 [==============================] - 0s 2ms/step - loss: 0.6601 - accuracy: 0.7012\n",
            "18/18 [==============================] - 0s 2ms/step - loss: 0.6601 - accuracy: 0.7012\n",
            "18/18 [==============================] - 0s 2ms/step - loss: 0.6601 - accuracy: 0.7012\n",
            "18/18 [==============================] - 0s 2ms/step - loss: 0.6595 - accuracy: 0.7012\n",
            "18/18 [==============================] - 0s 2ms/step - loss: 0.6595 - accuracy: 0.7012\n",
            "Completed running the 5 generation with mean accuracy of: 0.701230\n",
            "Started running the 6 generation\n",
            "18/18 [==============================] - 0s 2ms/step - loss: 0.6601 - accuracy: 0.7012\n",
            "18/18 [==============================] - 0s 2ms/step - loss: 0.6595 - accuracy: 0.7012\n",
            "18/18 [==============================] - 0s 2ms/step - loss: 0.6601 - accuracy: 0.7012\n",
            "18/18 [==============================] - 0s 2ms/step - loss: 0.6595 - accuracy: 0.7012\n",
            "18/18 [==============================] - 0s 2ms/step - loss: 0.6595 - accuracy: 0.7012\n",
            "18/18 [==============================] - 0s 2ms/step - loss: 0.6601 - accuracy: 0.7012\n",
            "18/18 [==============================] - 0s 2ms/step - loss: 0.6601 - accuracy: 0.7012\n",
            "18/18 [==============================] - 0s 2ms/step - loss: 0.6601 - accuracy: 0.7012\n",
            "18/18 [==============================] - 0s 2ms/step - loss: 0.6595 - accuracy: 0.7012\n",
            "18/18 [==============================] - 0s 2ms/step - loss: 0.6595 - accuracy: 0.7012\n",
            "18/18 [==============================] - 0s 2ms/step - loss: 0.6595 - accuracy: 0.7012\n",
            "18/18 [==============================] - 0s 2ms/step - loss: 0.6595 - accuracy: 0.7012\n",
            "18/18 [==============================] - 0s 2ms/step - loss: 0.6595 - accuracy: 0.7012\n",
            "18/18 [==============================] - 0s 2ms/step - loss: 0.6595 - accuracy: 0.7012\n",
            "18/18 [==============================] - 0s 3ms/step - loss: 0.6595 - accuracy: 0.7012\n",
            "18/18 [==============================] - 0s 4ms/step - loss: 0.6595 - accuracy: 0.7012\n",
            "18/18 [==============================] - 0s 2ms/step - loss: 0.6595 - accuracy: 0.7012\n",
            "18/18 [==============================] - 0s 2ms/step - loss: 0.6595 - accuracy: 0.7012\n",
            "18/18 [==============================] - 0s 3ms/step - loss: 0.6595 - accuracy: 0.7012\n",
            "18/18 [==============================] - 0s 3ms/step - loss: 0.6595 - accuracy: 0.7012\n",
            "Completed running the 6 generation with mean accuracy of: 0.701230\n",
            "Started running the 7 generation\n",
            "18/18 [==============================] - 0s 3ms/step - loss: 0.6595 - accuracy: 0.7012\n",
            "18/18 [==============================] - 0s 3ms/step - loss: 0.6595 - accuracy: 0.7012\n",
            "18/18 [==============================] - 0s 4ms/step - loss: 0.6595 - accuracy: 0.7012\n",
            "18/18 [==============================] - 0s 4ms/step - loss: 0.6595 - accuracy: 0.7012\n",
            "18/18 [==============================] - 0s 3ms/step - loss: 0.6595 - accuracy: 0.7012\n",
            "18/18 [==============================] - 0s 3ms/step - loss: 0.6595 - accuracy: 0.7012\n",
            "18/18 [==============================] - 0s 4ms/step - loss: 0.6595 - accuracy: 0.7012\n",
            "18/18 [==============================] - 0s 5ms/step - loss: 0.6595 - accuracy: 0.7012\n",
            "18/18 [==============================] - 0s 3ms/step - loss: 0.6595 - accuracy: 0.7012\n",
            "18/18 [==============================] - 0s 3ms/step - loss: 0.6595 - accuracy: 0.7012\n",
            "18/18 [==============================] - 0s 3ms/step - loss: 0.6595 - accuracy: 0.7012\n",
            "18/18 [==============================] - 0s 3ms/step - loss: 0.6595 - accuracy: 0.7012\n",
            "18/18 [==============================] - 0s 4ms/step - loss: 0.6595 - accuracy: 0.7012\n",
            "18/18 [==============================] - 1s 2ms/step - loss: 0.6595 - accuracy: 0.7012\n",
            "18/18 [==============================] - 0s 2ms/step - loss: 0.6595 - accuracy: 0.7012\n",
            "18/18 [==============================] - 0s 2ms/step - loss: 0.6595 - accuracy: 0.7012\n",
            "18/18 [==============================] - 0s 2ms/step - loss: 0.6595 - accuracy: 0.7012\n",
            "18/18 [==============================] - 0s 2ms/step - loss: 0.6595 - accuracy: 0.7012\n",
            "18/18 [==============================] - 0s 2ms/step - loss: 0.6595 - accuracy: 0.7012\n",
            "18/18 [==============================] - 0s 2ms/step - loss: 0.6595 - accuracy: 0.7012\n",
            "Completed running the 7 generation with mean accuracy of: 0.701230\n",
            "Started running the 8 generation\n",
            "18/18 [==============================] - 0s 2ms/step - loss: 0.6595 - accuracy: 0.7012\n",
            "18/18 [==============================] - 0s 2ms/step - loss: 0.6595 - accuracy: 0.7012\n",
            "18/18 [==============================] - 0s 2ms/step - loss: 0.6595 - accuracy: 0.7012\n",
            "18/18 [==============================] - 0s 2ms/step - loss: 0.6595 - accuracy: 0.7012\n",
            "18/18 [==============================] - 0s 2ms/step - loss: 0.6595 - accuracy: 0.7012\n",
            "18/18 [==============================] - 0s 2ms/step - loss: 0.6595 - accuracy: 0.7012\n",
            "18/18 [==============================] - 0s 2ms/step - loss: 0.6595 - accuracy: 0.7012\n",
            "18/18 [==============================] - 0s 2ms/step - loss: 0.6595 - accuracy: 0.7012\n",
            "18/18 [==============================] - 0s 2ms/step - loss: 0.6595 - accuracy: 0.7012\n",
            "18/18 [==============================] - 0s 2ms/step - loss: 0.6595 - accuracy: 0.7012\n",
            "18/18 [==============================] - 0s 2ms/step - loss: 0.6595 - accuracy: 0.7012\n",
            "18/18 [==============================] - 0s 2ms/step - loss: 0.6595 - accuracy: 0.7012\n",
            "18/18 [==============================] - 0s 2ms/step - loss: 0.6595 - accuracy: 0.7012\n",
            "18/18 [==============================] - 0s 2ms/step - loss: 0.6595 - accuracy: 0.7012\n",
            "18/18 [==============================] - 0s 2ms/step - loss: 0.6595 - accuracy: 0.7012\n",
            "18/18 [==============================] - 0s 2ms/step - loss: 0.6595 - accuracy: 0.7012\n",
            "18/18 [==============================] - 0s 2ms/step - loss: 0.6595 - accuracy: 0.7012\n",
            "18/18 [==============================] - 0s 2ms/step - loss: 0.6595 - accuracy: 0.7012\n",
            "18/18 [==============================] - 0s 3ms/step - loss: 0.6595 - accuracy: 0.7012\n",
            "18/18 [==============================] - 0s 2ms/step - loss: 0.6595 - accuracy: 0.7012\n",
            "Completed running the 8 generation with mean accuracy of: 0.701230\n",
            "Started running the 9 generation\n",
            "18/18 [==============================] - 0s 3ms/step - loss: 0.6595 - accuracy: 0.7012\n",
            "18/18 [==============================] - 0s 2ms/step - loss: 0.6595 - accuracy: 0.7012\n",
            "18/18 [==============================] - 0s 2ms/step - loss: 0.6595 - accuracy: 0.7012\n",
            "18/18 [==============================] - 0s 2ms/step - loss: 0.6595 - accuracy: 0.7012\n",
            "18/18 [==============================] - 0s 2ms/step - loss: 0.6595 - accuracy: 0.7012\n",
            "18/18 [==============================] - 0s 2ms/step - loss: 0.6595 - accuracy: 0.7012\n",
            "18/18 [==============================] - 0s 2ms/step - loss: 0.6595 - accuracy: 0.7012\n",
            "18/18 [==============================] - 0s 2ms/step - loss: 0.6595 - accuracy: 0.7012\n",
            "18/18 [==============================] - 0s 2ms/step - loss: 0.6595 - accuracy: 0.7012\n",
            "18/18 [==============================] - 0s 2ms/step - loss: 0.6595 - accuracy: 0.7012\n",
            "18/18 [==============================] - 0s 2ms/step - loss: 0.6595 - accuracy: 0.7012\n",
            "18/18 [==============================] - 0s 2ms/step - loss: 0.6595 - accuracy: 0.7012\n",
            "18/18 [==============================] - 0s 2ms/step - loss: 0.6595 - accuracy: 0.7012\n",
            "18/18 [==============================] - 0s 2ms/step - loss: 0.6595 - accuracy: 0.7012\n",
            "18/18 [==============================] - 0s 2ms/step - loss: 0.6595 - accuracy: 0.7012\n",
            "18/18 [==============================] - 0s 2ms/step - loss: 0.6595 - accuracy: 0.7012\n",
            "18/18 [==============================] - 0s 2ms/step - loss: 0.6595 - accuracy: 0.7012\n",
            "18/18 [==============================] - 0s 2ms/step - loss: 0.6595 - accuracy: 0.7012\n",
            "18/18 [==============================] - 0s 3ms/step - loss: 0.6595 - accuracy: 0.7012\n",
            "18/18 [==============================] - 0s 2ms/step - loss: 0.6595 - accuracy: 0.7012\n",
            "Completed running the 9 generation with mean accuracy of: 0.701230\n"
          ]
        }
      ]
    },
    {
      "cell_type": "code",
      "source": [
        "plt.plot(average_fitness_history)\n",
        "plt.title('GA Average Accuracy Plot')\n",
        "plt.ylabel('Accuracy')\n",
        "plt.xlabel('Generation')\n",
        "plt.legend(['Train'], loc='upper left')\n",
        "plt.show()\n"
      ],
      "metadata": {
        "colab": {
          "base_uri": "https://localhost:8080/",
          "height": 472
        },
        "id": "ycnd97FRiG8n",
        "outputId": "d029d1ee-9366-4ed5-b082-7dcbc30ebfde"
      },
      "execution_count": null,
      "outputs": [
        {
          "output_type": "display_data",
          "data": {
            "text/plain": [
              "<Figure size 640x480 with 1 Axes>"
            ],
            "image/png": "[encoded data removed]"
          },
          "metadata": {}
        }
      ]
    },
    {
      "cell_type": "code",
      "source": [
        "pop[0].evaluate(x_train, y_train)"
      ],
      "metadata": {
        "colab": {
          "base_uri": "https://localhost:8080/"
        },
        "id": "rgl1qMWHjwS_",
        "outputId": "e70d111b-97ea-43ee-eb02-d4cb55e21ec3"
      },
      "execution_count": null,
      "outputs": [
        {
          "output_type": "stream",
          "name": "stdout",
          "text": [
            "18/18 [==============================] - 0s 2ms/step - loss: 0.6595 - accuracy: 0.7012\n"
          ]
        },
        {
          "output_type": "execute_result",
          "data": {
            "text/plain": [
              "[0.6594990491867065, 0.7012302279472351]"
            ]
          },
          "metadata": {},
          "execution_count": 79
        }
      ]
    },
    {
      "cell_type": "code",
      "source": [
        "print('The model has %f accuracy on the train data using genetic algorithm optimized neural network' % (pop[0].evaluate(x_train, y_train)[1] * 100))"
      ],
      "metadata": {
        "colab": {
          "base_uri": "https://localhost:8080/"
        },
        "id": "cVgfidwJj0EZ",
        "outputId": "df4c935e-0c1a-4507-e5fb-a154fe52790e"
      },
      "execution_count": null,
      "outputs": [
        {
          "output_type": "stream",
          "name": "stdout",
          "text": [
            "18/18 [==============================] - 0s 2ms/step - loss: 0.6595 - accuracy: 0.7012\n",
            "The model has 70.123023 accuracy on the train data using genetic algorithm optimized neural network\n"
          ]
        }
      ]
    },
    {
      "cell_type": "code",
      "source": [
        "eval_val_ga = pop[0].evaluate(x_test, y_test)"
      ],
      "metadata": {
        "colab": {
          "base_uri": "https://localhost:8080/"
        },
        "id": "qMtOMyMAj5kE",
        "outputId": "a13538e3-f507-44c6-cf5a-217b4a263936"
      },
      "execution_count": null,
      "outputs": [
        {
          "output_type": "stream",
          "name": "stdout",
          "text": [
            "5/5 [==============================] - 0s 5ms/step - loss: 0.7180 - accuracy: 0.6434\n"
          ]
        }
      ]
    },
    {
      "cell_type": "code",
      "source": [
        "print('The model has %f accuracy on the test data using genetic algorithm optimized neural network' % (eval_val_ga[1] * 100))"
      ],
      "metadata": {
        "colab": {
          "base_uri": "https://localhost:8080/"
        },
        "id": "v6iYeQoYkATh",
        "outputId": "bffcfa53-0310-436e-8416-5212bdc06073"
      },
      "execution_count": null,
      "outputs": [
        {
          "output_type": "stream",
          "name": "stdout",
          "text": [
            "The model has 64.335662 accuracy on the test data using genetic algorithm optimized neural network\n"
          ]
        }
      ]
    },
    {
      "cell_type": "code",
      "source": [
        "y_pred_ga = pop[0].predict(x_test)"
      ],
      "metadata": {
        "colab": {
          "base_uri": "https://localhost:8080/"
        },
        "id": "dLABgoLukGmn",
        "outputId": "64a405ba-c569-4722-f8d9-2ee5837234ee"
      },
      "execution_count": null,
      "outputs": [
        {
          "output_type": "stream",
          "name": "stdout",
          "text": [
            "5/5 [==============================] - 0s 5ms/step\n"
          ]
        }
      ]
    },
    {
      "cell_type": "code",
      "source": [
        "# sns genatic  algorithem confusion matrix\n",
        "\n",
        "import matplotlib.pyplot as plt\n",
        "cm = confusion_matrix(y_test, y_pred_ga.round())\n",
        "plt.figure(figsize=(10,7))\n",
        "sns.heatmap(cm, annot=True, fmt='d', cmap='Blues')\n",
        "plt.xlabel('Predicted')\n",
        "plt.ylabel('Truth')\n",
        "plt.show()\n"
      ],
      "metadata": {
        "colab": {
          "base_uri": "https://localhost:8080/",
          "height": 619
        },
        "id": "FPpk3x0pkLP9",
        "outputId": "b57cd382-265f-4364-d82b-7fbf562b07ba"
      },
      "execution_count": null,
      "outputs": [
        {
          "output_type": "display_data",
          "data": {
            "text/plain": [
              "<Figure size 1000x700 with 2 Axes>"
            ],
            "image/png": "[encoded data removed]"
          },
          "metadata": {}
        }
      ]
    },
    {
      "cell_type": "code",
      "source": [],
      "metadata": {
        "id": "wBUFKT4zkhWZ"
      },
      "execution_count": null,
      "outputs": []
    }
  ]
}